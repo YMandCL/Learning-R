{
 "cells": [
  {
   "cell_type": "markdown",
   "metadata": {},
   "source": [
    "## Chapter 10: Averaging and Parameter Estimation"
   ]
  },
  {
   "cell_type": "markdown",
   "metadata": {},
   "source": [
    "<b>Q1. It’s possible to get errors that don’t quite cancel out the way we want. In the Fahrenheit temperature scale, 98.6 degrees is the normal body temperature and 100.4 degrees is the typical threshold for a fever. Say you are taking care of a child that feels warm and seems sick, but you take repeated readings from the thermometer and they all read between 99.5 and 100.0 degrees: warm, but not quite a fever. You try the thermometer yourself and get several readings between 97.5 and 98. What could be wrong with the thermometer?"
   ]
  },
  {
   "cell_type": "markdown",
   "metadata": {},
   "source": [
    "<i><b><font color = green> In this case, the thermometer is giving a biased readout of 1 degree lower than actual temperature."
   ]
  },
  {
   "cell_type": "markdown",
   "metadata": {},
   "source": [
    "<b>Q2. Given that you feel healthy and have traditionally had a very consistently normal temperature, how could you alter the measurements 100, 99.5, 99.6, and 100.2 to estimate if the child has a fever?"
   ]
  },
  {
   "cell_type": "markdown",
   "metadata": {},
   "source": [
    "<i><b><font color = green>Since measurements are biased, sampling will not correct the problem on its own. You would have to add 1 degree to each reading."
   ]
  },
  {
   "cell_type": "markdown",
   "metadata": {},
   "source": [
    "_____________________________________________________________________________________________________________________"
   ]
  },
  {
   "cell_type": "markdown",
   "metadata": {},
   "source": [
    "## Chapter 11: Measuring the Spead of our Data"
   ]
  },
  {
   "cell_type": "markdown",
   "metadata": {},
   "source": [
    "<b> Q1. One of the benefits of variance is that squaring the differences makes the penalties exponential. Give some examples of when this would be a useful property."
   ]
  },
  {
   "cell_type": "markdown",
   "metadata": {},
   "source": [
    "<b><i><font color = green> The penality for being far away from your target becomes more severe as it becomes worse.\n",
    "    \n",
    "When working with \"High Dimensional\" data (many parameters) the distance between data points becomes very sparse. This is because you need an exponential ammount of observations for each new parameter. \n",
    "\n",
    "\n",
    "    Note: When trying to fit a model, you may be better off dropping outlying data points."
   ]
  },
  {
   "cell_type": "markdown",
   "metadata": {},
   "source": [
    "<b> Q2. Calculate the mean, variance, and standard deviation for the following values: 1, 2, 3, 4, 5, 6, 7, 8, 9, 10."
   ]
  },
  {
   "cell_type": "code",
   "execution_count": 1,
   "metadata": {},
   "outputs": [],
   "source": [
    "#create vector\n",
    "x <- c(1,2,3,4,5,6,7,8,9,10)"
   ]
  },
  {
   "cell_type": "code",
   "execution_count": 10,
   "metadata": {},
   "outputs": [
    {
     "data": {
      "text/html": [
       "5.5"
      ],
      "text/latex": [
       "5.5"
      ],
      "text/markdown": [
       "5.5"
      ],
      "text/plain": [
       "[1] 5.5"
      ]
     },
     "metadata": {},
     "output_type": "display_data"
    },
    {
     "data": {
      "text/html": [
       "9.16666666666667"
      ],
      "text/latex": [
       "9.16666666666667"
      ],
      "text/markdown": [
       "9.16666666666667"
      ],
      "text/plain": [
       "[1] 9.166667"
      ]
     },
     "metadata": {},
     "output_type": "display_data"
    },
    {
     "data": {
      "text/html": [
       "3.02765035409749"
      ],
      "text/latex": [
       "3.02765035409749"
      ],
      "text/markdown": [
       "3.02765035409749"
      ],
      "text/plain": [
       "[1] 3.02765"
      ]
     },
     "metadata": {},
     "output_type": "display_data"
    }
   ],
   "source": [
    "#mean\n",
    "mean(x)\n",
    "var(x)\n",
    "sd(x)"
   ]
  },
  {
   "cell_type": "code",
   "execution_count": 17,
   "metadata": {},
   "outputs": [
    {
     "name": "stderr",
     "output_type": "stream",
     "text": [
      "Installing package into 'C:/Users/Watson Turbo/Documents/R/win-library/3.6'\n",
      "(as 'lib' is unspecified)\n"
     ]
    },
    {
     "name": "stdout",
     "output_type": "stream",
     "text": [
      "package 'pastecs' successfully unpacked and MD5 sums checked\n",
      "\n",
      "The downloaded binary packages are in\n",
      "\tC:\\Users\\Watson Turbo\\AppData\\Local\\Temp\\Rtmpc7rTaS\\downloaded_packages\n"
     ]
    },
    {
     "name": "stderr",
     "output_type": "stream",
     "text": [
      "Warning message:\n",
      "\"package 'pastecs' was built under R version 3.6.2\""
     ]
    },
    {
     "data": {
      "text/html": [
       "<dl class=dl-horizontal>\n",
       "\t<dt>nbr.val</dt>\n",
       "\t\t<dd>10</dd>\n",
       "\t<dt>nbr.null</dt>\n",
       "\t\t<dd>0</dd>\n",
       "\t<dt>nbr.na</dt>\n",
       "\t\t<dd>0</dd>\n",
       "\t<dt>min</dt>\n",
       "\t\t<dd>1</dd>\n",
       "\t<dt>max</dt>\n",
       "\t\t<dd>10</dd>\n",
       "\t<dt>range</dt>\n",
       "\t\t<dd>9</dd>\n",
       "\t<dt>sum</dt>\n",
       "\t\t<dd>55</dd>\n",
       "\t<dt>median</dt>\n",
       "\t\t<dd>5.5</dd>\n",
       "\t<dt>mean</dt>\n",
       "\t\t<dd>5.5</dd>\n",
       "\t<dt>SE.mean</dt>\n",
       "\t\t<dd>0.957427107756338</dd>\n",
       "\t<dt>CI.mean.0.95</dt>\n",
       "\t\t<dd>2.16585058966817</dd>\n",
       "\t<dt>var</dt>\n",
       "\t\t<dd>9.16666666666667</dd>\n",
       "\t<dt>std.dev</dt>\n",
       "\t\t<dd>3.02765035409749</dd>\n",
       "\t<dt>coef.var</dt>\n",
       "\t\t<dd>0.55048188256318</dd>\n",
       "</dl>\n"
      ],
      "text/latex": [
       "\\begin{description*}\n",
       "\\item[nbr.val] 10\n",
       "\\item[nbr.null] 0\n",
       "\\item[nbr.na] 0\n",
       "\\item[min] 1\n",
       "\\item[max] 10\n",
       "\\item[range] 9\n",
       "\\item[sum] 55\n",
       "\\item[median] 5.5\n",
       "\\item[mean] 5.5\n",
       "\\item[SE.mean] 0.957427107756338\n",
       "\\item[CI.mean.0.95] 2.16585058966817\n",
       "\\item[var] 9.16666666666667\n",
       "\\item[std.dev] 3.02765035409749\n",
       "\\item[coef.var] 0.55048188256318\n",
       "\\end{description*}\n"
      ],
      "text/markdown": [
       "nbr.val\n",
       ":   10nbr.null\n",
       ":   0nbr.na\n",
       ":   0min\n",
       ":   1max\n",
       ":   10range\n",
       ":   9sum\n",
       ":   55median\n",
       ":   5.5mean\n",
       ":   5.5SE.mean\n",
       ":   0.957427107756338CI.mean.0.95\n",
       ":   2.16585058966817var\n",
       ":   9.16666666666667std.dev\n",
       ":   3.02765035409749coef.var\n",
       ":   0.55048188256318\n",
       "\n"
      ],
      "text/plain": [
       "     nbr.val     nbr.null       nbr.na          min          max        range \n",
       "  10.0000000    0.0000000    0.0000000    1.0000000   10.0000000    9.0000000 \n",
       "         sum       median         mean      SE.mean CI.mean.0.95          var \n",
       "  55.0000000    5.5000000    5.5000000    0.9574271    2.1658506    9.1666667 \n",
       "     std.dev     coef.var \n",
       "   3.0276504    0.5504819 "
      ]
     },
     "metadata": {},
     "output_type": "display_data"
    }
   ],
   "source": [
    "# Compute descriptive statistics\n",
    "install.packages(\"pastecs\")\n",
    "library(pastecs)\n",
    "stat.desc(x)"
   ]
  }
 ],
 "metadata": {
  "kernelspec": {
   "display_name": "R",
   "language": "R",
   "name": "ir"
  },
  "language_info": {
   "codemirror_mode": "r",
   "file_extension": ".r",
   "mimetype": "text/x-r-source",
   "name": "R",
   "pygments_lexer": "r",
   "version": "3.6.0"
  }
 },
 "nbformat": 4,
 "nbformat_minor": 2
}
