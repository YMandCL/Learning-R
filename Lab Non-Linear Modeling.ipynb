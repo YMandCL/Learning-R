{
 "cells": [
  {
   "cell_type": "markdown",
   "metadata": {},
   "source": [
    "## Analyzing the Wage Data"
   ]
  },
  {
   "cell_type": "markdown",
   "metadata": {},
   "source": [
    "## Polynomial Regression and Step Functions"
   ]
  },
  {
   "cell_type": "code",
   "execution_count": 2,
   "metadata": {},
   "outputs": [
    {
     "name": "stderr",
     "output_type": "stream",
     "text": [
      "Warning message:\n",
      "\"package 'ISLR' was built under R version 3.6.1\""
     ]
    }
   ],
   "source": [
    "library(ISLR)\n",
    "attach(Wage)"
   ]
  },
  {
   "cell_type": "code",
   "execution_count": 3,
   "metadata": {},
   "outputs": [
    {
     "data": {
      "text/html": [
       "<table>\n",
       "<thead><tr><th></th><th scope=col>Estimate</th><th scope=col>Std. Error</th><th scope=col>t value</th><th scope=col>Pr(&gt;|t|)</th></tr></thead>\n",
       "<tbody>\n",
       "\t<tr><th scope=row>(Intercept)</th><td> 111.70361  </td><td> 0.7287409  </td><td>153.283015  </td><td>0.000000e+00</td></tr>\n",
       "\t<tr><th scope=row>poly(age, 4)1</th><td> 447.06785  </td><td>39.9147851  </td><td> 11.200558  </td><td>1.484604e-28</td></tr>\n",
       "\t<tr><th scope=row>poly(age, 4)2</th><td>-478.31581  </td><td>39.9147851  </td><td>-11.983424  </td><td>2.355831e-32</td></tr>\n",
       "\t<tr><th scope=row>poly(age, 4)3</th><td> 125.52169  </td><td>39.9147851  </td><td>  3.144742  </td><td>1.678622e-03</td></tr>\n",
       "\t<tr><th scope=row>poly(age, 4)4</th><td> -77.91118  </td><td>39.9147851  </td><td> -1.951938  </td><td>5.103865e-02</td></tr>\n",
       "</tbody>\n",
       "</table>\n"
      ],
      "text/latex": [
       "\\begin{tabular}{r|llll}\n",
       "  & Estimate & Std. Error & t value & Pr(>\\textbar{}t\\textbar{})\\\\\n",
       "\\hline\n",
       "\t(Intercept) &  111.70361   &  0.7287409   & 153.283015   & 0.000000e+00\\\\\n",
       "\tpoly(age, 4)1 &  447.06785   & 39.9147851   &  11.200558   & 1.484604e-28\\\\\n",
       "\tpoly(age, 4)2 & -478.31581   & 39.9147851   & -11.983424   & 2.355831e-32\\\\\n",
       "\tpoly(age, 4)3 &  125.52169   & 39.9147851   &   3.144742   & 1.678622e-03\\\\\n",
       "\tpoly(age, 4)4 &  -77.91118   & 39.9147851   &  -1.951938   & 5.103865e-02\\\\\n",
       "\\end{tabular}\n"
      ],
      "text/markdown": [
       "\n",
       "| <!--/--> | Estimate | Std. Error | t value | Pr(>|t|) |\n",
       "|---|---|---|---|---|\n",
       "| (Intercept) |  111.70361   |  0.7287409   | 153.283015   | 0.000000e+00 |\n",
       "| poly(age, 4)1 |  447.06785   | 39.9147851   |  11.200558   | 1.484604e-28 |\n",
       "| poly(age, 4)2 | -478.31581   | 39.9147851   | -11.983424   | 2.355831e-32 |\n",
       "| poly(age, 4)3 |  125.52169   | 39.9147851   |   3.144742   | 1.678622e-03 |\n",
       "| poly(age, 4)4 |  -77.91118   | 39.9147851   |  -1.951938   | 5.103865e-02 |\n",
       "\n"
      ],
      "text/plain": [
       "              Estimate   Std. Error t value    Pr(>|t|)    \n",
       "(Intercept)    111.70361  0.7287409 153.283015 0.000000e+00\n",
       "poly(age, 4)1  447.06785 39.9147851  11.200558 1.484604e-28\n",
       "poly(age, 4)2 -478.31581 39.9147851 -11.983424 2.355831e-32\n",
       "poly(age, 4)3  125.52169 39.9147851   3.144742 1.678622e-03\n",
       "poly(age, 4)4  -77.91118 39.9147851  -1.951938 5.103865e-02"
      ]
     },
     "metadata": {},
     "output_type": "display_data"
    }
   ],
   "source": [
    "#Fit linear model using a 4th degree polynomial\n",
    "fit=lm(wage~poly(age,4),data=Wage)\n",
    "coef(summary(fit))"
   ]
  },
  {
   "cell_type": "code",
   "execution_count": 4,
   "metadata": {},
   "outputs": [
    {
     "data": {
      "text/html": [
       "<table>\n",
       "<thead><tr><th></th><th scope=col>Estimate</th><th scope=col>Std. Error</th><th scope=col>t value</th><th scope=col>Pr(&gt;|t|)</th></tr></thead>\n",
       "<tbody>\n",
       "\t<tr><th scope=row>(Intercept)</th><td>-1.841542e+02</td><td>6.004038e+01 </td><td>-3.067172    </td><td>0.0021802539 </td></tr>\n",
       "\t<tr><th scope=row>poly(age, 4, raw = T)1</th><td> 2.124552e+01</td><td>5.886748e+00 </td><td> 3.609042    </td><td>0.0003123618 </td></tr>\n",
       "\t<tr><th scope=row>poly(age, 4, raw = T)2</th><td>-5.638593e-01</td><td>2.061083e-01 </td><td>-2.735743    </td><td>0.0062606446 </td></tr>\n",
       "\t<tr><th scope=row>poly(age, 4, raw = T)3</th><td> 6.810688e-03</td><td>3.065931e-03 </td><td> 2.221409    </td><td>0.0263977518 </td></tr>\n",
       "\t<tr><th scope=row>poly(age, 4, raw = T)4</th><td>-3.203830e-05</td><td>1.641359e-05 </td><td>-1.951938    </td><td>0.0510386498 </td></tr>\n",
       "</tbody>\n",
       "</table>\n"
      ],
      "text/latex": [
       "\\begin{tabular}{r|llll}\n",
       "  & Estimate & Std. Error & t value & Pr(>\\textbar{}t\\textbar{})\\\\\n",
       "\\hline\n",
       "\t(Intercept) & -1.841542e+02 & 6.004038e+01  & -3.067172     & 0.0021802539 \\\\\n",
       "\tpoly(age, 4, raw = T)1 &  2.124552e+01 & 5.886748e+00  &  3.609042     & 0.0003123618 \\\\\n",
       "\tpoly(age, 4, raw = T)2 & -5.638593e-01 & 2.061083e-01  & -2.735743     & 0.0062606446 \\\\\n",
       "\tpoly(age, 4, raw = T)3 &  6.810688e-03 & 3.065931e-03  &  2.221409     & 0.0263977518 \\\\\n",
       "\tpoly(age, 4, raw = T)4 & -3.203830e-05 & 1.641359e-05  & -1.951938     & 0.0510386498 \\\\\n",
       "\\end{tabular}\n"
      ],
      "text/markdown": [
       "\n",
       "| <!--/--> | Estimate | Std. Error | t value | Pr(>|t|) |\n",
       "|---|---|---|---|---|\n",
       "| (Intercept) | -1.841542e+02 | 6.004038e+01  | -3.067172     | 0.0021802539  |\n",
       "| poly(age, 4, raw = T)1 |  2.124552e+01 | 5.886748e+00  |  3.609042     | 0.0003123618  |\n",
       "| poly(age, 4, raw = T)2 | -5.638593e-01 | 2.061083e-01  | -2.735743     | 0.0062606446  |\n",
       "| poly(age, 4, raw = T)3 |  6.810688e-03 | 3.065931e-03  |  2.221409     | 0.0263977518  |\n",
       "| poly(age, 4, raw = T)4 | -3.203830e-05 | 1.641359e-05  | -1.951938     | 0.0510386498  |\n",
       "\n"
      ],
      "text/plain": [
       "                       Estimate      Std. Error   t value   Pr(>|t|)    \n",
       "(Intercept)            -1.841542e+02 6.004038e+01 -3.067172 0.0021802539\n",
       "poly(age, 4, raw = T)1  2.124552e+01 5.886748e+00  3.609042 0.0003123618\n",
       "poly(age, 4, raw = T)2 -5.638593e-01 2.061083e-01 -2.735743 0.0062606446\n",
       "poly(age, 4, raw = T)3  6.810688e-03 3.065931e-03  2.221409 0.0263977518\n",
       "poly(age, 4, raw = T)4 -3.203830e-05 1.641359e-05 -1.951938 0.0510386498"
      ]
     },
     "metadata": {},
     "output_type": "display_data"
    }
   ],
   "source": [
    "#raw=True obtains polynomial directly\n",
    "fit2=lm(wage~poly(age,4,raw=T),data=Wage)\n",
    "coef(summary(fit2))"
   ]
  },
  {
   "cell_type": "code",
   "execution_count": 5,
   "metadata": {},
   "outputs": [
    {
     "data": {
      "text/html": [
       "<dl class=dl-horizontal>\n",
       "\t<dt>(Intercept)</dt>\n",
       "\t\t<dd>-184.154179774595</dd>\n",
       "\t<dt>age</dt>\n",
       "\t\t<dd>21.2455205321312</dd>\n",
       "\t<dt>I(age^2)</dt>\n",
       "\t\t<dd>-0.563859312560422</dd>\n",
       "\t<dt>I(age^3)</dt>\n",
       "\t\t<dd>0.00681068771418266</dd>\n",
       "\t<dt>I(age^4)</dt>\n",
       "\t\t<dd>-3.20383037493084e-05</dd>\n",
       "</dl>\n"
      ],
      "text/latex": [
       "\\begin{description*}\n",
       "\\item[(Intercept)] -184.154179774595\n",
       "\\item[age] 21.2455205321312\n",
       "\\item[I(age\\textbackslash{}textasciicircum\\{\\}2)] -0.563859312560422\n",
       "\\item[I(age\\textbackslash{}textasciicircum\\{\\}3)] 0.00681068771418266\n",
       "\\item[I(age\\textbackslash{}textasciicircum\\{\\}4)] -3.20383037493084e-05\n",
       "\\end{description*}\n"
      ],
      "text/markdown": [
       "(Intercept)\n",
       ":   -184.154179774595age\n",
       ":   21.2455205321312I(age^2)\n",
       ":   -0.563859312560422I(age^3)\n",
       ":   0.00681068771418266I(age^4)\n",
       ":   -3.20383037493084e-05\n",
       "\n"
      ],
      "text/plain": [
       "  (Intercept)           age      I(age^2)      I(age^3)      I(age^4) \n",
       "-1.841542e+02  2.124552e+01 -5.638593e-01  6.810688e-03 -3.203830e-05 "
      ]
     },
     "metadata": {},
     "output_type": "display_data"
    }
   ],
   "source": [
    "#Alternative, create polynomial basis functions with wrapper I()\n",
    "fit2a=lm(wage~age+I(age^2)+I(age^3)+I(age^4),data=Wage)\n",
    "coef(fit2a)"
   ]
  },
  {
   "cell_type": "code",
   "execution_count": 6,
   "metadata": {},
   "outputs": [],
   "source": [
    "#Build matrix for a collection of vectors with cbind()\n",
    "#Create values for age at which we want predictions\n",
    "agelims=range(age)\n",
    "age.grid=seq(from=agelims[1],to=agelims[2])\n",
    "preds=predict(fit,newdata=list(age=age.grid),se=TRUE)\n",
    "se.bands=cbind(preds$fit+2*preds$se.fit,preds$fit-2*preds$se.fit)"
   ]
  },
  {
   "cell_type": "code",
   "execution_count": 7,
   "metadata": {},
   "outputs": [
    {
     "data": {
      "image/png": "[encoded data removed]",
      "text/plain": [
       "Plot with title \"Degree-4 Polynomial\""
      ]
     },
     "metadata": {},
     "output_type": "display_data"
    }
   ],
   "source": [
    "#Plot the data and add fit to 4th degree polynomial\n",
    "#mar, oma, and par() control margines of plot\n",
    "par(mfrow=c(1,2),mar=c(4.5,4.5,1,1), oma=c(0,0,4,0))\n",
    "plot(age,wage,xlim=agelims,cex=.5,col=\"darkgrey\")\n",
    "title(\"Degree-4 Polynomial\",outer=T)\n",
    "lines(age.grid,preds$fit,lwd=2,col=\"blue\")\n",
    "matlines(age.grid,se.bands,lwd=1,col=\"blue\",lty=3)"
   ]
  },
  {
   "cell_type": "code",
   "execution_count": 8,
   "metadata": {},
   "outputs": [
    {
     "data": {
      "text/html": [
       "1.10844666778576e-11"
      ],
      "text/latex": [
       "1.10844666778576e-11"
      ],
      "text/markdown": [
       "1.10844666778576e-11"
      ],
      "text/plain": [
       "[1] 1.108447e-11"
      ]
     },
     "metadata": {},
     "output_type": "display_data"
    }
   ],
   "source": [
    "preds2=predict(fit2,newdata=list(age=age.grid),se=TRUE)\n",
    "max(abs(preds$fit-preds2$fit))"
   ]
  },
  {
   "cell_type": "markdown",
   "metadata": {},
   "source": [
    "Hypothesis Test: Fit models ranging from Linear to 5th degre Polynomial.\n",
    "\n",
    "Choose the simplest model that explains the relationship between age and wage.\n",
    "\n",
    "Use anova() Analysis of Variance using F-test.\n",
    "Tests null hypothesis that model M1 is sufficient to explain data against the null hypothesis of more complex M2 model.\n",
    "\n",
    "M1 and M2 must be nested models, that is M1 must be a subset of predictors in M2."
   ]
  },
  {
   "cell_type": "code",
   "execution_count": 9,
   "metadata": {},
   "outputs": [
    {
     "data": {
      "text/html": [
       "<table>\n",
       "<thead><tr><th scope=col>Res.Df</th><th scope=col>RSS</th><th scope=col>Df</th><th scope=col>Sum of Sq</th><th scope=col>F</th><th scope=col>Pr(&gt;F)</th></tr></thead>\n",
       "<tbody>\n",
       "\t<tr><td>2998        </td><td>5022216     </td><td>NA          </td><td>        NA  </td><td>         NA </td><td>          NA</td></tr>\n",
       "\t<tr><td>2997        </td><td>4793430     </td><td> 1          </td><td>228786.010  </td><td>143.5931074 </td><td>2.367734e-32</td></tr>\n",
       "\t<tr><td>2996        </td><td>4777674     </td><td> 1          </td><td> 15755.694  </td><td>  9.8887559 </td><td>1.679213e-03</td></tr>\n",
       "\t<tr><td>2995        </td><td>4771604     </td><td> 1          </td><td>  6070.152  </td><td>  3.8098134 </td><td>5.104623e-02</td></tr>\n",
       "\t<tr><td>2994        </td><td>4770322     </td><td> 1          </td><td>  1282.563  </td><td>  0.8049758 </td><td>3.696820e-01</td></tr>\n",
       "</tbody>\n",
       "</table>\n"
      ],
      "text/latex": [
       "\\begin{tabular}{r|llllll}\n",
       " Res.Df & RSS & Df & Sum of Sq & F & Pr(>F)\\\\\n",
       "\\hline\n",
       "\t 2998         & 5022216      & NA           &         NA   &          NA  &           NA\\\\\n",
       "\t 2997         & 4793430      &  1           & 228786.010   & 143.5931074  & 2.367734e-32\\\\\n",
       "\t 2996         & 4777674      &  1           &  15755.694   &   9.8887559  & 1.679213e-03\\\\\n",
       "\t 2995         & 4771604      &  1           &   6070.152   &   3.8098134  & 5.104623e-02\\\\\n",
       "\t 2994         & 4770322      &  1           &   1282.563   &   0.8049758  & 3.696820e-01\\\\\n",
       "\\end{tabular}\n"
      ],
      "text/markdown": [
       "\n",
       "| Res.Df | RSS | Df | Sum of Sq | F | Pr(>F) |\n",
       "|---|---|---|---|---|---|\n",
       "| 2998         | 5022216      | NA           |         NA   |          NA  |           NA |\n",
       "| 2997         | 4793430      |  1           | 228786.010   | 143.5931074  | 2.367734e-32 |\n",
       "| 2996         | 4777674      |  1           |  15755.694   |   9.8887559  | 1.679213e-03 |\n",
       "| 2995         | 4771604      |  1           |   6070.152   |   3.8098134  | 5.104623e-02 |\n",
       "| 2994         | 4770322      |  1           |   1282.563   |   0.8049758  | 3.696820e-01 |\n",
       "\n"
      ],
      "text/plain": [
       "  Res.Df RSS     Df Sum of Sq  F           Pr(>F)      \n",
       "1 2998   5022216 NA         NA          NA           NA\n",
       "2 2997   4793430  1 228786.010 143.5931074 2.367734e-32\n",
       "3 2996   4777674  1  15755.694   9.8887559 1.679213e-03\n",
       "4 2995   4771604  1   6070.152   3.8098134 5.104623e-02\n",
       "5 2994   4770322  1   1282.563   0.8049758 3.696820e-01"
      ]
     },
     "metadata": {},
     "output_type": "display_data"
    }
   ],
   "source": [
    "#Fit 5 different models and compare sequentially\n",
    "fit.1=lm(wage∼age,data=Wage)\n",
    "fit.2=lm(wage∼poly(age,2),data=Wage)\n",
    "fit.3=lm(wage∼poly(age,3),data=Wage)\n",
    "fit.4=lm(wage∼poly(age,4),data=Wage)\n",
    "fit.5=lm(wage∼poly(age,5),data=Wage)\n",
    "anova(fit.1,fit.2,fit.3,fit.4,fit.5)"
   ]
  },
  {
   "cell_type": "markdown",
   "metadata": {},
   "source": [
    "<b>P-Value is essentially 0 for 1st and 2nd Degree\n",
    "    \n",
    "    P-Value is 0.37 for 5th degree\n",
    "    \n",
    "    P-Value 3rd and 4th dgrees appear okay"
   ]
  },
  {
   "cell_type": "code",
   "execution_count": 10,
   "metadata": {},
   "outputs": [
    {
     "data": {
      "text/html": [
       "<table>\n",
       "<thead><tr><th></th><th scope=col>Estimate</th><th scope=col>Std. Error</th><th scope=col>t value</th><th scope=col>Pr(&gt;|t|)</th></tr></thead>\n",
       "<tbody>\n",
       "\t<tr><th scope=row>(Intercept)</th><td> 111.70361  </td><td> 0.7287647  </td><td>153.2780243 </td><td>0.000000e+00</td></tr>\n",
       "\t<tr><th scope=row>poly(age, 5)1</th><td> 447.06785  </td><td>39.9160847  </td><td> 11.2001930 </td><td>1.491111e-28</td></tr>\n",
       "\t<tr><th scope=row>poly(age, 5)2</th><td>-478.31581  </td><td>39.9160847  </td><td>-11.9830341 </td><td>2.367734e-32</td></tr>\n",
       "\t<tr><th scope=row>poly(age, 5)3</th><td> 125.52169  </td><td>39.9160847  </td><td>  3.1446392 </td><td>1.679213e-03</td></tr>\n",
       "\t<tr><th scope=row>poly(age, 5)4</th><td> -77.91118  </td><td>39.9160847  </td><td> -1.9518743 </td><td>5.104623e-02</td></tr>\n",
       "\t<tr><th scope=row>poly(age, 5)5</th><td> -35.81289  </td><td>39.9160847  </td><td> -0.8972045 </td><td>3.696820e-01</td></tr>\n",
       "</tbody>\n",
       "</table>\n"
      ],
      "text/latex": [
       "\\begin{tabular}{r|llll}\n",
       "  & Estimate & Std. Error & t value & Pr(>\\textbar{}t\\textbar{})\\\\\n",
       "\\hline\n",
       "\t(Intercept) &  111.70361   &  0.7287647   & 153.2780243  & 0.000000e+00\\\\\n",
       "\tpoly(age, 5)1 &  447.06785   & 39.9160847   &  11.2001930  & 1.491111e-28\\\\\n",
       "\tpoly(age, 5)2 & -478.31581   & 39.9160847   & -11.9830341  & 2.367734e-32\\\\\n",
       "\tpoly(age, 5)3 &  125.52169   & 39.9160847   &   3.1446392  & 1.679213e-03\\\\\n",
       "\tpoly(age, 5)4 &  -77.91118   & 39.9160847   &  -1.9518743  & 5.104623e-02\\\\\n",
       "\tpoly(age, 5)5 &  -35.81289   & 39.9160847   &  -0.8972045  & 3.696820e-01\\\\\n",
       "\\end{tabular}\n"
      ],
      "text/markdown": [
       "\n",
       "| <!--/--> | Estimate | Std. Error | t value | Pr(>|t|) |\n",
       "|---|---|---|---|---|\n",
       "| (Intercept) |  111.70361   |  0.7287647   | 153.2780243  | 0.000000e+00 |\n",
       "| poly(age, 5)1 |  447.06785   | 39.9160847   |  11.2001930  | 1.491111e-28 |\n",
       "| poly(age, 5)2 | -478.31581   | 39.9160847   | -11.9830341  | 2.367734e-32 |\n",
       "| poly(age, 5)3 |  125.52169   | 39.9160847   |   3.1446392  | 1.679213e-03 |\n",
       "| poly(age, 5)4 |  -77.91118   | 39.9160847   |  -1.9518743  | 5.104623e-02 |\n",
       "| poly(age, 5)5 |  -35.81289   | 39.9160847   |  -0.8972045  | 3.696820e-01 |\n",
       "\n"
      ],
      "text/plain": [
       "              Estimate   Std. Error t value     Pr(>|t|)    \n",
       "(Intercept)    111.70361  0.7287647 153.2780243 0.000000e+00\n",
       "poly(age, 5)1  447.06785 39.9160847  11.2001930 1.491111e-28\n",
       "poly(age, 5)2 -478.31581 39.9160847 -11.9830341 2.367734e-32\n",
       "poly(age, 5)3  125.52169 39.9160847   3.1446392 1.679213e-03\n",
       "poly(age, 5)4  -77.91118 39.9160847  -1.9518743 5.104623e-02\n",
       "poly(age, 5)5  -35.81289 39.9160847  -0.8972045 3.696820e-01"
      ]
     },
     "metadata": {},
     "output_type": "display_data"
    }
   ],
   "source": [
    "#use poly() to create orthogonal polynomials instead of ANOVA\n",
    "coef(summary(fit.5))"
   ]
  },
  {
   "cell_type": "markdown",
   "metadata": {},
   "source": [
    "Note: The p-values are essentially the same the square of t-stat is equal to F-stat from anova() function"
   ]
  },
  {
   "cell_type": "code",
   "execution_count": 11,
   "metadata": {},
   "outputs": [
    {
     "data": {
      "text/html": [
       "143.593106241763"
      ],
      "text/latex": [
       "143.593106241763"
      ],
      "text/markdown": [
       "143.593106241763"
      ],
      "text/plain": [
       "[1] 143.5931"
      ]
     },
     "metadata": {},
     "output_type": "display_data"
    }
   ],
   "source": [
    "#Example\n",
    "(-11.9830341)^2"
   ]
  },
  {
   "cell_type": "code",
   "execution_count": 12,
   "metadata": {},
   "outputs": [
    {
     "data": {
      "text/html": [
       "<table>\n",
       "<thead><tr><th scope=col>Res.Df</th><th scope=col>RSS</th><th scope=col>Df</th><th scope=col>Sum of Sq</th><th scope=col>F</th><th scope=col>Pr(&gt;F)</th></tr></thead>\n",
       "<tbody>\n",
       "\t<tr><td>2994        </td><td>3867992     </td><td>NA          </td><td>       NA   </td><td>        NA  </td><td>          NA</td></tr>\n",
       "\t<tr><td>2993        </td><td>3725395     </td><td> 1          </td><td>142597.10   </td><td>114.696898  </td><td>2.728971e-26</td></tr>\n",
       "\t<tr><td>2992        </td><td>3719809     </td><td> 1          </td><td>  5586.66   </td><td>  4.493588  </td><td>3.410431e-02</td></tr>\n",
       "</tbody>\n",
       "</table>\n"
      ],
      "text/latex": [
       "\\begin{tabular}{r|llllll}\n",
       " Res.Df & RSS & Df & Sum of Sq & F & Pr(>F)\\\\\n",
       "\\hline\n",
       "\t 2994         & 3867992      & NA           &        NA    &         NA   &           NA\\\\\n",
       "\t 2993         & 3725395      &  1           & 142597.10    & 114.696898   & 2.728971e-26\\\\\n",
       "\t 2992         & 3719809      &  1           &   5586.66    &   4.493588   & 3.410431e-02\\\\\n",
       "\\end{tabular}\n"
      ],
      "text/markdown": [
       "\n",
       "| Res.Df | RSS | Df | Sum of Sq | F | Pr(>F) |\n",
       "|---|---|---|---|---|---|\n",
       "| 2994         | 3867992      | NA           |        NA    |         NA   |           NA |\n",
       "| 2993         | 3725395      |  1           | 142597.10    | 114.696898   | 2.728971e-26 |\n",
       "| 2992         | 3719809      |  1           |   5586.66    |   4.493588   | 3.410431e-02 |\n",
       "\n"
      ],
      "text/plain": [
       "  Res.Df RSS     Df Sum of Sq F          Pr(>F)      \n",
       "1 2994   3867992 NA        NA         NA           NA\n",
       "2 2993   3725395  1 142597.10 114.696898 2.728971e-26\n",
       "3 2992   3719809  1   5586.66   4.493588 3.410431e-02"
      ]
     },
     "metadata": {},
     "output_type": "display_data"
    }
   ],
   "source": [
    "#ANOVA method works whether or not orthogonal polys are used\n",
    "#ANOVA works with other terms in model as well\n",
    "fit.1=lm(wage~education+age,data=Wage)\n",
    "fit.2=lm(wage~education+poly(age,2),data=Wage)\n",
    "fit.3=lm(wage~education+poly(age,3),data=Wage)\n",
    "anova(fit.1,fit.2,fit.3)"
   ]
  },
  {
   "cell_type": "markdown",
   "metadata": {},
   "source": [
    "<b>Predict whether an individual earns more than $250k/year"
   ]
  },
  {
   "cell_type": "code",
   "execution_count": 13,
   "metadata": {},
   "outputs": [],
   "source": [
    "#Create response vector and apply glm() using family=binomial\n",
    "#Use I() wrapper to create binary response on the fly\n",
    "fit=glm(I(wage>250)~poly(age,4),data=Wage,family=\"binomial\")"
   ]
  },
  {
   "cell_type": "code",
   "execution_count": 14,
   "metadata": {},
   "outputs": [],
   "source": [
    "preds=predict(fit,newdata=list(age=age.grid),se=T)"
   ]
  },
  {
   "cell_type": "code",
   "execution_count": 15,
   "metadata": {},
   "outputs": [],
   "source": [
    "#type=\"link\" to calculate confidence intervals\n",
    "pfit=exp(preds$fit)/(1+exp(preds$fit))\n",
    "se.bands.logit = cbind(preds$fit+2*preds$se.fit, preds$fit-2*\n",
    "                      preds$se.fit)\n",
    "se.bands = exp(se.bands.logit)/(1+exp(se.bands.logit))"
   ]
  },
  {
   "cell_type": "code",
   "execution_count": 16,
   "metadata": {},
   "outputs": [],
   "source": [
    "#type=\"response\" in predict() to directly compute probabilities\n",
    "preds=predict(fit,newdata=list(age=age.grid),type=\"response\", se=T)"
   ]
  },
  {
   "cell_type": "code",
   "execution_count": 17,
   "metadata": {},
   "outputs": [
    {
     "data": {
      "image/png": "[encoded data removed]",
      "text/plain": [
       "plot without title"
      ]
     },
     "metadata": {},
     "output_type": "display_data"
    }
   ],
   "source": [
    "#Plot gray marks at tope and bottom with wage above and below 250\n",
    "#Use jitter() function on age so same age values to not coverup\n",
    "# also called \"rug\" plot\n",
    "plot(age ,I(wage>250),xlim=agelims ,type=\"n\",ylim=c(0,.2))\n",
    "points(jitter(age), I((wage >250)/5),cex=.5,pch=\"|\", col=\"darkgrey\")\n",
    "lines(age.grid ,pfit ,lwd=2, col=\"blue\")\n",
    "matlines (age.grid ,se.bands,lwd=1,col=\"blue\",lty=3)"
   ]
  },
  {
   "cell_type": "code",
   "execution_count": 18,
   "metadata": {},
   "outputs": [
    {
     "data": {
      "text/plain": [
       "\n",
       "(17.9,33.5]   (33.5,49]   (49,64.5] (64.5,80.1] \n",
       "        750        1399         779          72 "
      ]
     },
     "metadata": {},
     "output_type": "display_data"
    },
    {
     "data": {
      "text/html": [
       "<table>\n",
       "<thead><tr><th></th><th scope=col>Estimate</th><th scope=col>Std. Error</th><th scope=col>t value</th><th scope=col>Pr(&gt;|t|)</th></tr></thead>\n",
       "<tbody>\n",
       "\t<tr><th scope=row>(Intercept)</th><td>94.158392   </td><td>1.476069    </td><td>63.789970   </td><td>0.000000e+00</td></tr>\n",
       "\t<tr><th scope=row>cut(age, 4)(33.5,49]</th><td>24.053491   </td><td>1.829431    </td><td>13.148074   </td><td>1.982315e-38</td></tr>\n",
       "\t<tr><th scope=row>cut(age, 4)(49,64.5]</th><td>23.664559   </td><td>2.067958    </td><td>11.443444   </td><td>1.040750e-29</td></tr>\n",
       "\t<tr><th scope=row>cut(age, 4)(64.5,80.1]</th><td> 7.640592   </td><td>4.987424    </td><td> 1.531972   </td><td>1.256350e-01</td></tr>\n",
       "</tbody>\n",
       "</table>\n"
      ],
      "text/latex": [
       "\\begin{tabular}{r|llll}\n",
       "  & Estimate & Std. Error & t value & Pr(>\\textbar{}t\\textbar{})\\\\\n",
       "\\hline\n",
       "\t(Intercept) & 94.158392    & 1.476069     & 63.789970    & 0.000000e+00\\\\\n",
       "\tcut(age, 4)(33.5,49{]} & 24.053491    & 1.829431     & 13.148074    & 1.982315e-38\\\\\n",
       "\tcut(age, 4)(49,64.5{]} & 23.664559    & 2.067958     & 11.443444    & 1.040750e-29\\\\\n",
       "\tcut(age, 4)(64.5,80.1{]} &  7.640592    & 4.987424     &  1.531972    & 1.256350e-01\\\\\n",
       "\\end{tabular}\n"
      ],
      "text/markdown": [
       "\n",
       "| <!--/--> | Estimate | Std. Error | t value | Pr(>|t|) |\n",
       "|---|---|---|---|---|\n",
       "| (Intercept) | 94.158392    | 1.476069     | 63.789970    | 0.000000e+00 |\n",
       "| cut(age, 4)(33.5,49] | 24.053491    | 1.829431     | 13.148074    | 1.982315e-38 |\n",
       "| cut(age, 4)(49,64.5] | 23.664559    | 2.067958     | 11.443444    | 1.040750e-29 |\n",
       "| cut(age, 4)(64.5,80.1] |  7.640592    | 4.987424     |  1.531972    | 1.256350e-01 |\n",
       "\n"
      ],
      "text/plain": [
       "                       Estimate  Std. Error t value   Pr(>|t|)    \n",
       "(Intercept)            94.158392 1.476069   63.789970 0.000000e+00\n",
       "cut(age, 4)(33.5,49]   24.053491 1.829431   13.148074 1.982315e-38\n",
       "cut(age, 4)(49,64.5]   23.664559 2.067958   11.443444 1.040750e-29\n",
       "cut(age, 4)(64.5,80.1]  7.640592 4.987424    1.531972 1.256350e-01"
      ]
     },
     "metadata": {},
     "output_type": "display_data"
    }
   ],
   "source": [
    "#cut() function to fit step function\n",
    "#cut points at age 33.5, 49,, 64.5\n",
    "#note: alternative to cut(), is using the \"breaks\" option\n",
    "table(cut(age ,4))\n",
    "fit=lm(wage~cut(age,4),data=Wage)\n",
    "coef(summary(fit))"
   ]
  },
  {
   "cell_type": "markdown",
   "metadata": {},
   "source": [
    "Intercept coefficient of $94,160  is the average salary for those under 33.5 years of age. \n",
    "\n",
    "There is clearly an error in the book somewhere."
   ]
  },
  {
   "cell_type": "markdown",
   "metadata": {},
   "source": [
    "## Splines"
   ]
  },
  {
   "cell_type": "markdown",
   "metadata": {},
   "source": [
    "Fit by constructing matrix basis function"
   ]
  },
  {
   "cell_type": "code",
   "execution_count": 19,
   "metadata": {},
   "outputs": [
    {
     "data": {
      "text/html": [],
      "text/latex": [],
      "text/markdown": [],
      "text/plain": [
       "logical(0)"
      ]
     },
     "metadata": {},
     "output_type": "display_data"
    },
    {
     "data": {
      "image/png": "[encoded data removed]",
      "text/plain": [
       "plot without title"
      ]
     },
     "metadata": {},
     "output_type": "display_data"
    }
   ],
   "source": [
    "#bs() function for entire matrix of basis functions for splines\n",
    "#specify knots\n",
    "#cubic splines by default\n",
    "library(splines)\n",
    "fit=lm(wage∼bs(age,knots=c(25,40,60)),data=Wage)\n",
    "pred=predict (fit ,newdata =list(age=age.grid),se=T)\n",
    "plot(age ,wage ,col=\"gray\")\n",
    "lines(age.grid ,pred$fit ,lwd=2) > lines(age.grid ,pred$fit +2*pred$se ,lty=\"dashed\")\n",
    "lines(age.grid ,pred$fit -2*pred$se ,lty=\"dashed\")"
   ]
  },
  {
   "cell_type": "markdown",
   "metadata": {},
   "source": [
    "Note: cubic spline with three knots has seven degrees of freedom\n",
    "\n",
    "Used by intercept and 6 basis functions"
   ]
  },
  {
   "cell_type": "code",
   "execution_count": 20,
   "metadata": {},
   "outputs": [
    {
     "data": {
      "text/html": [
       "<ol class=list-inline>\n",
       "\t<li>3000</li>\n",
       "\t<li>6</li>\n",
       "</ol>\n"
      ],
      "text/latex": [
       "\\begin{enumerate*}\n",
       "\\item 3000\n",
       "\\item 6\n",
       "\\end{enumerate*}\n"
      ],
      "text/markdown": [
       "1. 3000\n",
       "2. 6\n",
       "\n",
       "\n"
      ],
      "text/plain": [
       "[1] 3000    6"
      ]
     },
     "metadata": {},
     "output_type": "display_data"
    }
   ],
   "source": [
    "#use df option to produce spline with knots at uniform quantiles\n",
    "dim(bs(age,knots=c(25,40,60)))"
   ]
  },
  {
   "cell_type": "code",
   "execution_count": 21,
   "metadata": {},
   "outputs": [
    {
     "data": {
      "text/html": [
       "<ol class=list-inline>\n",
       "\t<li>3000</li>\n",
       "\t<li>6</li>\n",
       "</ol>\n"
      ],
      "text/latex": [
       "\\begin{enumerate*}\n",
       "\\item 3000\n",
       "\\item 6\n",
       "\\end{enumerate*}\n"
      ],
      "text/markdown": [
       "1. 3000\n",
       "2. 6\n",
       "\n",
       "\n"
      ],
      "text/plain": [
       "[1] 3000    6"
      ]
     },
     "metadata": {},
     "output_type": "display_data"
    }
   ],
   "source": [
    "dim(bs(age,df=6))"
   ]
  },
  {
   "cell_type": "code",
   "execution_count": 22,
   "metadata": {},
   "outputs": [
    {
     "data": {
      "text/html": [
       "<dl class=dl-horizontal>\n",
       "\t<dt>25%</dt>\n",
       "\t\t<dd>33.75</dd>\n",
       "\t<dt>50%</dt>\n",
       "\t\t<dd>42</dd>\n",
       "\t<dt>75%</dt>\n",
       "\t\t<dd>51</dd>\n",
       "</dl>\n"
      ],
      "text/latex": [
       "\\begin{description*}\n",
       "\\item[25\\textbackslash{}\\%] 33.75\n",
       "\\item[50\\textbackslash{}\\%] 42\n",
       "\\item[75\\textbackslash{}\\%] 51\n",
       "\\end{description*}\n"
      ],
      "text/markdown": [
       "25%\n",
       ":   33.7550%\n",
       ":   4275%\n",
       ":   51\n",
       "\n"
      ],
      "text/plain": [
       "  25%   50%   75% \n",
       "33.75 42.00 51.00 "
      ]
     },
     "metadata": {},
     "output_type": "display_data"
    }
   ],
   "source": [
    "attr(bs(age,df=6),\"knots\")"
   ]
  },
  {
   "cell_type": "code",
   "execution_count": 23,
   "metadata": {},
   "outputs": [
    {
     "ename": "ERROR",
     "evalue": "Error in plot.xy(xy.coords(x, y), type = type, ...): plot.new has not been called yet\n",
     "output_type": "error",
     "traceback": [
      "Error in plot.xy(xy.coords(x, y), type = type, ...): plot.new has not been called yet\nTraceback:\n",
      "1. lines(age.grid, pred2$fit, col = \"red\", lwd = 2)",
      "2. lines.default(age.grid, pred2$fit, col = \"red\", lwd = 2)",
      "3. plot.xy(xy.coords(x, y), type = type, ...)"
     ]
    }
   ],
   "source": [
    "fit2=lm(wage~ns(age,df=4),data=Wage)\n",
    "pred2=predict(fit2,newdata=list(age=age.grid),se=T)\n",
    "lines(age.grid,pred2$fit,col=\"red\",lwd=2)"
   ]
  },
  {
   "cell_type": "code",
   "execution_count": null,
   "metadata": {},
   "outputs": [],
   "source": [
    "#smooth.spline()\n",
    "plot(age, wage, xlim=agelims, cex=.5,col=\"darkgrey\")\n",
    "title(\"Smoothing Spline\")\n",
    "fit=smooth.spline(age, wage, df=16)\n",
    "fit2=smooth.spline(age,wage,cv=TRUE)\n",
    "fit2$df"
   ]
  },
  {
   "cell_type": "code",
   "execution_count": null,
   "metadata": {},
   "outputs": [],
   "source": [
    "lines(fit,col=\"red\",lwd=2)\n",
    "lines(fit2,col=\"blue\",lwd=2)\n",
    "legend(\"topright\",legend=c(\"16 DF\",\"6.8 DF\"),\n",
    "      col=c(\"red\",\"blue\"), lty=1,lwd=2,cex=.8)"
   ]
  },
  {
   "cell_type": "code",
   "execution_count": null,
   "metadata": {},
   "outputs": [],
   "source": [
    "plot(age ,wage ,xlim=agelims ,cex=.5,col=\"darkgrey \")\n",
    "title(\"Local Regression \")\n",
    "fit=loess(wage∼age,span=.2,data=Wage)\n",
    "fit2=loess(wage∼age,span=.5,data=Wage)\n",
    "lines(age.grid ,predict (fit ,data.frame(age=age.grid)), col=\"red\",lwd=2)\n",
    "lines(age.grid ,predict (fit2 ,data.frame(age=age.grid)), col=\"blue\",lwd=2)\n",
    "legend (\"topright \",legend=c(\"Span=0.2\",\" Span=0.5\"), col=c(\"red\",\"blue\"),lty=1,lwd=2,cex=.8)"
   ]
  },
  {
   "cell_type": "markdown",
   "metadata": {},
   "source": [
    "## GAMs"
   ]
  },
  {
   "cell_type": "code",
   "execution_count": 26,
   "metadata": {},
   "outputs": [
    {
     "name": "stderr",
     "output_type": "stream",
     "text": [
      "Installing package into 'C:/Users/Watson Turbo/Documents/R/win-library/3.6'\n",
      "(as 'lib' is unspecified)\n"
     ]
    },
    {
     "name": "stdout",
     "output_type": "stream",
     "text": [
      "package 'gam' successfully unpacked and MD5 sums checked\n",
      "\n",
      "The downloaded binary packages are in\n",
      "\tC:\\Users\\Watson Turbo\\AppData\\Local\\Temp\\RtmpoFPEN0\\downloaded_packages\n"
     ]
    }
   ],
   "source": [
    "install.packages(\"gam\")"
   ]
  },
  {
   "cell_type": "code",
   "execution_count": 24,
   "metadata": {},
   "outputs": [],
   "source": [
    "#Start with Linear Regression Model\n",
    "gam1=lm(wage~ns(year,4)+ns(age,5)+education,data=Wage)"
   ]
  },
  {
   "cell_type": "code",
   "execution_count": 27,
   "metadata": {},
   "outputs": [
    {
     "name": "stderr",
     "output_type": "stream",
     "text": [
      "Warning message:\n",
      "\"package 'gam' was built under R version 3.6.1\"Loading required package: foreach\n",
      "Loaded gam 1.16.1\n",
      "\n",
      "Warning message in model.matrix.default(mt, mf, contrasts):\n",
      "\"non-list contrasts argument ignored\""
     ]
    }
   ],
   "source": [
    "#s() function indicates smoothing splines rather than natural splines\n",
    "#year=4 degrees of freedom\n",
    "#age=5 degrees of freedom\n",
    "#education is converted into 4 dummy variables\n",
    "#gam function to fit GAM using these components\n",
    "library(gam)\n",
    "gam.m3=gam(wage~s(year,4)+s(age,5)+education,data=Wage)"
   ]
  },
  {
   "cell_type": "code",
   "execution_count": 28,
   "metadata": {},
   "outputs": [
    {
     "data": {
      "image/png": "[encoded data removed]",
      "text/plain": [
       "plot without title"
      ]
     },
     "metadata": {},
     "output_type": "display_data"
    }
   ],
   "source": [
    "#plot\n",
    "#automatically recognizes gam.m3 is an object of class gam\n",
    "par(mfrow=c(1,3))\n",
    "plot(gam.m3, se=TRUE,col=\"blue\")"
   ]
  },
  {
   "cell_type": "code",
   "execution_count": 33,
   "metadata": {},
   "outputs": [
    {
     "name": "stderr",
     "output_type": "stream",
     "text": [
      "Warning message in model.matrix.default(mt, mf, contrasts):\n",
      "\"non-list contrasts argument ignored\""
     ]
    },
    {
     "data": {
      "image/png": "[encoded data removed]",
      "text/plain": [
       "plot without title"
      ]
     },
     "metadata": {},
     "output_type": "display_data"
    },
    {
     "data": {
      "image/png": "[encoded data removed]",
      "text/plain": [
       "plot without title"
      ]
     },
     "metadata": {},
     "output_type": "display_data"
    },
    {
     "data": {
      "image/png": "[encoded data removed]",
      "text/plain": [
       "plot without title"
      ]
     },
     "metadata": {},
     "output_type": "display_data"
    }
   ],
   "source": [
    "plot(gam(gam1, se=TRUE, col=\"red\"))"
   ]
  },
  {
   "cell_type": "code",
   "execution_count": 35,
   "metadata": {},
   "outputs": [
    {
     "name": "stderr",
     "output_type": "stream",
     "text": [
      "Warning message in model.matrix.default(mt, mf, contrasts):\n",
      "\"non-list contrasts argument ignored\"Warning message in model.matrix.default(mt, mf, contrasts):\n",
      "\"non-list contrasts argument ignored\""
     ]
    },
    {
     "data": {
      "text/html": [
       "<table>\n",
       "<thead><tr><th scope=col>Resid. Df</th><th scope=col>Resid. Dev</th><th scope=col>Df</th><th scope=col>Deviance</th><th scope=col>F</th><th scope=col>Pr(&gt;F)</th></tr></thead>\n",
       "<tbody>\n",
       "\t<tr><td>2990        </td><td>3711731     </td><td>      NA    </td><td>       NA   </td><td>       NA   </td><td>          NA</td></tr>\n",
       "\t<tr><td>2989        </td><td>3693842     </td><td>1.000000    </td><td>17889.243   </td><td>14.477130   </td><td>0.0001447167</td></tr>\n",
       "\t<tr><td>2986        </td><td>3689770     </td><td>2.999989    </td><td> 4071.134   </td><td> 1.098212   </td><td>0.3485661430</td></tr>\n",
       "</tbody>\n",
       "</table>\n"
      ],
      "text/latex": [
       "\\begin{tabular}{r|llllll}\n",
       " Resid. Df & Resid. Dev & Df & Deviance & F & Pr(>F)\\\\\n",
       "\\hline\n",
       "\t 2990         & 3711731      &       NA     &        NA    &        NA    &           NA\\\\\n",
       "\t 2989         & 3693842      & 1.000000     & 17889.243    & 14.477130    & 0.0001447167\\\\\n",
       "\t 2986         & 3689770      & 2.999989     &  4071.134    &  1.098212    & 0.3485661430\\\\\n",
       "\\end{tabular}\n"
      ],
      "text/markdown": [
       "\n",
       "| Resid. Df | Resid. Dev | Df | Deviance | F | Pr(>F) |\n",
       "|---|---|---|---|---|---|\n",
       "| 2990         | 3711731      |       NA     |        NA    |        NA    |           NA |\n",
       "| 2989         | 3693842      | 1.000000     | 17889.243    | 14.477130    | 0.0001447167 |\n",
       "| 2986         | 3689770      | 2.999989     |  4071.134    |  1.098212    | 0.3485661430 |\n",
       "\n"
      ],
      "text/plain": [
       "  Resid. Df Resid. Dev Df       Deviance  F         Pr(>F)      \n",
       "1 2990      3711731          NA        NA        NA           NA\n",
       "2 2989      3693842    1.000000 17889.243 14.477130 0.0001447167\n",
       "3 2986      3689770    2.999989  4071.134  1.098212 0.3485661430"
      ]
     },
     "metadata": {},
     "output_type": "display_data"
    }
   ],
   "source": [
    "gam.m1=gam(wage~s(age,5)+education,data=Wage)\n",
    "gam.m2=gam(wage~year+s(age,5)+education,data=Wage)\n",
    "anova(gam.m1,gam.m2,gam.m3,test=\"F\")"
   ]
  },
  {
   "cell_type": "markdown",
   "metadata": {},
   "source": [
    "GAM with Linear functino of year is better than GAM without year. \n",
    "\n",
    "M2 is the prefered model\n",
    "\n",
    "M3 has a high p-value"
   ]
  },
  {
   "cell_type": "code",
   "execution_count": 36,
   "metadata": {},
   "outputs": [
    {
     "data": {
      "text/plain": [
       "\n",
       "Call: gam(formula = wage ~ s(year, 4) + s(age, 5) + education, data = Wage)\n",
       "Deviance Residuals:\n",
       "    Min      1Q  Median      3Q     Max \n",
       "-119.43  -19.70   -3.33   14.17  213.48 \n",
       "\n",
       "(Dispersion Parameter for gaussian family taken to be 1235.69)\n",
       "\n",
       "    Null Deviance: 5222086 on 2999 degrees of freedom\n",
       "Residual Deviance: 3689770 on 2986 degrees of freedom\n",
       "AIC: 29887.75 \n",
       "\n",
       "Number of Local Scoring Iterations: 2 \n",
       "\n",
       "Anova for Parametric Effects\n",
       "             Df  Sum Sq Mean Sq F value    Pr(>F)    \n",
       "s(year, 4)    1   27162   27162  21.981 2.877e-06 ***\n",
       "s(age, 5)     1  195338  195338 158.081 < 2.2e-16 ***\n",
       "education     4 1069726  267432 216.423 < 2.2e-16 ***\n",
       "Residuals  2986 3689770    1236                      \n",
       "---\n",
       "Signif. codes:  0 '***' 0.001 '**' 0.01 '*' 0.05 '.' 0.1 ' ' 1\n",
       "\n",
       "Anova for Nonparametric Effects\n",
       "            Npar Df Npar F  Pr(F)    \n",
       "(Intercept)                          \n",
       "s(year, 4)        3  1.086 0.3537    \n",
       "s(age, 5)         4 32.380 <2e-16 ***\n",
       "education                            \n",
       "---\n",
       "Signif. codes:  0 '***' 0.001 '**' 0.01 '*' 0.05 '.' 0.1 ' ' 1"
      ]
     },
     "metadata": {},
     "output_type": "display_data"
    }
   ],
   "source": [
    "summary(gam.m3)"
   ]
  },
  {
   "cell_type": "code",
   "execution_count": 37,
   "metadata": {},
   "outputs": [],
   "source": [
    "preds=predict(gam.m2,newdata=Wage)"
   ]
  },
  {
   "cell_type": "code",
   "execution_count": 54,
   "metadata": {},
   "outputs": [
    {
     "name": "stderr",
     "output_type": "stream",
     "text": [
      "Warning message in model.matrix.default(mt, mf, contrasts):\n",
      "\"non-list contrasts argument ignored\"Warning message in model.matrix.default(mt, mf, contrasts):\n",
      "\"non-list contrasts argument ignored\""
     ]
    },
    {
     "data": {
      "image/png": "[encoded data removed]",
      "text/plain": [
       "plot without title"
      ]
     },
     "metadata": {},
     "output_type": "display_data"
    },
    {
     "data": {
      "image/png": "[encoded data removed]",
      "text/plain": [
       "plot without title"
      ]
     },
     "metadata": {},
     "output_type": "display_data"
    },
    {
     "data": {
      "image/png": "[encoded data removed]",
      "text/plain": [
       "plot without title"
      ]
     },
     "metadata": {},
     "output_type": "display_data"
    }
   ],
   "source": [
    "#Local Regression\n",
    "gam.lo=gam(wage~s(year,df=4)+lo(age,span=0.7)+education,\n",
    "          data=Wage)\n",
    "plot(gam(gam.lo, se=TRUE, col=\"green\"))"
   ]
  },
  {
   "cell_type": "code",
   "execution_count": 43,
   "metadata": {},
   "outputs": [
    {
     "name": "stderr",
     "output_type": "stream",
     "text": [
      "Warning message in model.matrix.default(mt, mf, contrasts):\n",
      "\"non-list contrasts argument ignored\"Warning message in lo.wam(x, z, wz, fit$smooth, which, fit$smooth.frame, bf.maxit, :\n",
      "\"liv too small.    (Discovered by lowesd)\"Warning message in lo.wam(x, z, wz, fit$smooth, which, fit$smooth.frame, bf.maxit, :\n",
      "\"lv too small.     (Discovered by lowesd)\"Warning message in lo.wam(x, z, wz, fit$smooth, which, fit$smooth.frame, bf.maxit, :\n",
      "\"liv too small.    (Discovered by lowesd)\"Warning message in lo.wam(x, z, wz, fit$smooth, which, fit$smooth.frame, bf.maxit, :\n",
      "\"lv too small.     (Discovered by lowesd)\""
     ]
    }
   ],
   "source": [
    "#use lo() function to create interactions before calling the gam()\n",
    "gam.lo.i=gam(wage~lo(year,age,span=0.5)+education,\n",
    "            data=Wage)"
   ]
  },
  {
   "cell_type": "code",
   "execution_count": 45,
   "metadata": {},
   "outputs": [
    {
     "name": "stderr",
     "output_type": "stream",
     "text": [
      "Installing package into 'C:/Users/Watson Turbo/Documents/R/win-library/3.6'\n",
      "(as 'lib' is unspecified)\n"
     ]
    },
    {
     "name": "stdout",
     "output_type": "stream",
     "text": [
      "package 'akima' successfully unpacked and MD5 sums checked\n",
      "\n",
      "The downloaded binary packages are in\n",
      "\tC:\\Users\\Watson Turbo\\AppData\\Local\\Temp\\RtmpoFPEN0\\downloaded_packages\n"
     ]
    }
   ],
   "source": [
    "install.packages(\"akima\")"
   ]
  },
  {
   "cell_type": "code",
   "execution_count": 46,
   "metadata": {},
   "outputs": [
    {
     "name": "stderr",
     "output_type": "stream",
     "text": [
      "Warning message:\n",
      "\"package 'akima' was built under R version 3.6.1\""
     ]
    },
    {
     "data": {
      "image/png": "[encoded data removed]",
      "text/plain": [
       "plot without title"
      ]
     },
     "metadata": {},
     "output_type": "display_data"
    },
    {
     "data": {
      "image/png": "[encoded data removed]",
      "text/plain": [
       "plot without title"
      ]
     },
     "metadata": {},
     "output_type": "display_data"
    }
   ],
   "source": [
    "#Fit 2 Term model which First term is an interaction between year and age\n",
    "#Fit by local regression surface\n",
    "#Plot 2D surface with akima\n",
    "library(akima)\n",
    "plot(gam.lo.i)"
   ]
  },
  {
   "cell_type": "code",
   "execution_count": 52,
   "metadata": {},
   "outputs": [
    {
     "name": "stderr",
     "output_type": "stream",
     "text": [
      "Warning message in model.matrix.default(mt, mf, contrasts):\n",
      "\"non-list contrasts argument ignored\""
     ]
    },
    {
     "data": {
      "image/png": "[encoded data removed]",
      "text/plain": [
       "plot without title"
      ]
     },
     "metadata": {},
     "output_type": "display_data"
    }
   ],
   "source": [
    "gam.lr=gam(I(wage >250)∼year+s(age,df=5)+education,\n",
    "           family=binomial,data=Wage)\n",
    "par(mfrow=c(1,3))\n",
    "plot(gam.lr,se=T,col=\"green\")"
   ]
  },
  {
   "cell_type": "code",
   "execution_count": 48,
   "metadata": {},
   "outputs": [
    {
     "data": {
      "text/plain": [
       "                    \n",
       "education            FALSE TRUE\n",
       "  1. < HS Grad         268    0\n",
       "  2. HS Grad           966    5\n",
       "  3. Some College      643    7\n",
       "  4. College Grad      663   22\n",
       "  5. Advanced Degree   381   45"
      ]
     },
     "metadata": {},
     "output_type": "display_data"
    }
   ],
   "source": [
    "table(education,I(wage>250))"
   ]
  },
  {
   "cell_type": "markdown",
   "metadata": {},
   "source": [
    "No High Earners in Less than High School"
   ]
  },
  {
   "cell_type": "code",
   "execution_count": 50,
   "metadata": {},
   "outputs": [
    {
     "name": "stderr",
     "output_type": "stream",
     "text": [
      "Warning message in model.matrix.default(mt, mf, contrasts):\n",
      "\"non-list contrasts argument ignored\""
     ]
    },
    {
     "data": {
      "image/png": "[encoded data removed]",
      "text/plain": [
       "plot without title"
      ]
     },
     "metadata": {},
     "output_type": "display_data"
    },
    {
     "data": {
      "image/png": "[encoded data removed]",
      "text/plain": [
       "plot without title"
      ]
     },
     "metadata": {},
     "output_type": "display_data"
    },
    {
     "data": {
      "image/png": "[encoded data removed]",
      "text/plain": [
       "plot without title"
      ]
     },
     "metadata": {},
     "output_type": "display_data"
    }
   ],
   "source": [
    "#Fit Logistic Regression using all but Less than High School Catagory\n",
    "gam.lr.s=gam(I(wage >250)∼year+s(age,df=5)+education,family=\n",
    "               binomial,data=Wage,subset =(education !=\"1. < HS Grad\"))\n",
    "plot(gam.lr.s,se=T,col=\"green\")"
   ]
  },
  {
   "cell_type": "code",
   "execution_count": null,
   "metadata": {},
   "outputs": [],
   "source": []
  }
 ],
 "metadata": {
  "kernelspec": {
   "display_name": "R",
   "language": "R",
   "name": "ir"
  },
  "language_info": {
   "codemirror_mode": "r",
   "file_extension": ".r",
   "mimetype": "text/x-r-source",
   "name": "R",
   "pygments_lexer": "r",
   "version": "3.6.0"
  }
 },
 "nbformat": 4,
 "nbformat_minor": 2
}
