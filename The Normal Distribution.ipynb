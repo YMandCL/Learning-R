{
 "cells": [
  {
   "cell_type": "markdown",
   "metadata": {},
   "source": [
    "## Chapter 12"
   ]
  },
  {
   "cell_type": "markdown",
   "metadata": {},
   "source": [
    "<b>Q1. What is the probability of observing a value five sigma greater than the mean or more?"
   ]
  },
  {
   "cell_type": "code",
   "execution_count": 9,
   "metadata": {},
   "outputs": [
    {
     "data": {
      "text/plain": [
       "2.88167e-07 with absolute error < 5.6e-07"
      ]
     },
     "metadata": {},
     "output_type": "display_data"
    }
   ],
   "source": [
    "#Use integrate function on a Normal Distribution\n",
    "#Mean = 0\n",
    "#SD = 1\n",
    "#100 is a filler for a reasonably large number\n",
    "#A(heads)=6\n",
    "#B(tails)=1\n",
    "integrate(function(x) dnorm(x,mean=0,sd=1),5,100)"
   ]
  },
  {
   "cell_type": "markdown",
   "metadata": {},
   "source": [
    "<b>Q2. A fever is any temperature greater than 100.4 degrees Fahrenheit. Given the following measurements, what is the probability that the patient has a fever?\n",
    "    \n",
    "    100.0, 99.8, 101.0, 100.5, 99.7"
   ]
  },
  {
   "cell_type": "code",
   "execution_count": 13,
   "metadata": {},
   "outputs": [],
   "source": [
    "#Note: The book does not use the \"sample\" Standard deviation\n",
    "#Book averages by \"n\" instead of \"n-1\"\n",
    "my.sd <- function(val){\n",
    "  val.mean <- mean(val)\n",
    "  sqrt(mean((val.mean-val)^2))\n",
    "}"
   ]
  },
  {
   "cell_type": "code",
   "execution_count": 14,
   "metadata": {},
   "outputs": [],
   "source": [
    "temp.data <- c(100.0, 99.8, 101.0, 100.5, 99.7)\n",
    "temp.mean <- mean(temp.data)\n",
    "temp.sd <- my.sd(temp.data)"
   ]
  },
  {
   "cell_type": "code",
   "execution_count": 15,
   "metadata": {},
   "outputs": [
    {
     "data": {
      "text/plain": [
       "0.3402821 with absolute error < 1.1e-08"
      ]
     },
     "metadata": {},
     "output_type": "display_data"
    }
   ],
   "source": [
    "integrate(function(x) dnorm(x, mean=temp.mean, sd=temp.sd),100.4,200)"
   ]
  },
  {
   "cell_type": "markdown",
   "metadata": {},
   "source": [
    "<b><i><font color = green>There is about a 34% chance of fever"
   ]
  },
  {
   "cell_type": "code",
   "execution_count": 3,
   "metadata": {},
   "outputs": [
    {
     "data": {
      "text/plain": [
       "0.9527469 with absolute error < 1.5e-11"
      ]
     },
     "metadata": {},
     "output_type": "display_data"
    }
   ],
   "source": [
    "#55\n",
    "prior.val <-55\n",
    "integrate(function(x) dbeta(x, 6+prior.val,1+prior.val),0.4,0.6)"
   ]
  },
  {
   "cell_type": "markdown",
   "metadata": {},
   "source": [
    "<b>Q3. Suppose in Chapter 11 we tried to measure the depth of a well by timing coin drops and got the following values:\n",
    "\n",
    "    2.5, 3, 3.5, 4, 2\n",
    "\n",
    "The distance an object falls can be calculated (in meters) with the following formula:\n",
    "\n",
    "    distance = 1/2 × G × time2\n",
    "\n",
    "where G is 9.8 m/s/s. What is the probability that the well is over 500 meters deep?"
   ]
  },
  {
   "cell_type": "code",
   "execution_count": 18,
   "metadata": {},
   "outputs": [],
   "source": [
    "#Enter time data\n",
    "time.data <-c(2.5, 3, 3.5, 4, 2)\n",
    "time.data.mean <- mean(time.data)\n",
    "time.data.sd <- my.sd(time.data)"
   ]
  },
  {
   "cell_type": "markdown",
   "metadata": {},
   "source": [
    "<b><i><font color = green>Solve:\n",
    "    \n",
    "    1/2 * G * t^2 = 500\n",
    "    \n",
    "Gravity = 9.8 Meters/Sec\n",
    "\n",
    "Yay physics class!"
   ]
  },
  {
   "cell_type": "code",
   "execution_count": 24,
   "metadata": {},
   "outputs": [
    {
     "name": "stdout",
     "output_type": "stream",
     "text": [
      "[1] 10.10153\n"
     ]
    }
   ],
   "source": [
    "Gravity <-9.8\n",
    "\n",
    "#0.5*Gravity * t^2 = 500\n",
    "\n",
    "#t^2 = 500 / (0.5*Gravity)\n",
    "\n",
    "t <- sqrt(500 / (0.5*Gravity))\n",
    "print(t)"
   ]
  },
  {
   "cell_type": "code",
   "execution_count": 25,
   "metadata": {},
   "outputs": [
    {
     "data": {
      "text/plain": [
       "2.056582e-24 with absolute error < 4.1e-24"
      ]
     },
     "metadata": {},
     "output_type": "display_data"
    }
   ],
   "source": [
    "integrate(function(x)\n",
    "dnorm(x,mean=time.data.mean,sd=time.data.sd),10.1,200)"
   ]
  },
  {
   "cell_type": "markdown",
   "metadata": {},
   "source": [
    "<b><i><font color = green> This is essentially Zero, thus the well is not 500 meters deep"
   ]
  },
  {
   "cell_type": "markdown",
   "metadata": {},
   "source": [
    "<b>Q4. What is the probability there is no well (i.e., the well is really 0 meters deep)? You’ll notice that probability is higher than you might expect, given your observation that there is a well. There are two good explanations for this probability being higher than it should. The first is that the normal distribution is a poor model for our measurements; the second is that, when making up numbers for an example, I chose values that you likely wouldn’t see in real life. Which is more likely to you?"
   ]
  },
  {
   "cell_type": "code",
   "execution_count": 26,
   "metadata": {},
   "outputs": [
    {
     "data": {
      "text/plain": [
       "1.103754e-05 with absolute error < 1.2e-19"
      ]
     },
     "metadata": {},
     "output_type": "display_data"
    }
   ],
   "source": [
    "#Integration with -1 and 0\n",
    "integrate(function(x)\n",
    "dnorm(x,mean=time.data.mean,sd=time.data.sd),-1,0)"
   ]
  },
  {
   "cell_type": "markdown",
   "metadata": {},
   "source": [
    "<b><i><font color = green>The probability there is no well is greater than 1 in 100,000. However one can see the well. In this case, the observations are too spread out. Data\n",
    "    \n",
    "    2.5, 3, 3.5, 4, 2"
   ]
  },
  {
   "cell_type": "code",
   "execution_count": 27,
   "metadata": {},
   "outputs": [
    {
     "data": {
      "text/html": [
       "0.625"
      ],
      "text/latex": [
       "0.625"
      ],
      "text/markdown": [
       "0.625"
      ],
      "text/plain": [
       "[1] 0.625"
      ]
     },
     "metadata": {},
     "output_type": "display_data"
    }
   ],
   "source": [
    "var(time.data)"
   ]
  },
  {
   "cell_type": "markdown",
   "metadata": {},
   "source": [
    "<b><i><font color = red> FINAL NOTE:\n",
    "    \n",
    "<font color = green> As a Bayesian, one should favor questioning the model over the data. \n",
    "\n",
    "    Example: The Stock market has a high Standard Deviation during financial crises. The market is not Normally Distributed.\n",
    "    \n",
    "    Thus you cannot build a model that assumes Normal Distribution."
   ]
  }
 ],
 "metadata": {
  "kernelspec": {
   "display_name": "R",
   "language": "R",
   "name": "ir"
  },
  "language_info": {
   "codemirror_mode": "r",
   "file_extension": ".r",
   "mimetype": "text/x-r-source",
   "name": "R",
   "pygments_lexer": "r",
   "version": "3.6.0"
  }
 },
 "nbformat": 4,
 "nbformat_minor": 2
}
