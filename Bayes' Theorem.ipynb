{
 "cells": [
  {
   "cell_type": "markdown",
   "metadata": {},
   "source": [
    "## Chapter 7: Bayes' Theorm with LEGO"
   ]
  },
  {
   "cell_type": "markdown",
   "metadata": {},
   "source": [
    "<b>Q1. Kansas City, despite its name, sits on the border of two US states: Missouri and Kansas. The Kansas City metropolitan area consists of 15 counties, 9 in Missouri and 6 in Kansas. The entire state of Kansas has 105 counties and Missouri has 114. Use Bayes’ theorem to calculate the probability that a relative who just moved to a county in the Kansas City metropolitan area also lives in a county in Kansas. Make sure to show P(Kansas) (assuming your relative lives either in Kansas or Missouri), P(Kansas City metropolitan area), and P(Kansas City metropolitan area | Kansas)."
   ]
  },
  {
   "cell_type": "markdown",
   "metadata": {},
   "source": [
    "<u><b><font color = green>Counties in Kansas City Metro<b><u>\n",
    "    \n",
    "    9 = Missouri\n",
    "    6 = Kansas\n",
    "    105 = Kansas Total\n",
    "    114 = Missouri Total"
   ]
  },
  {
   "cell_type": "markdown",
   "metadata": {},
   "source": [
    "<u><b><font color = green>105 = Kansas Total\n",
    "    \n",
    "   114 = Missouri Total"
   ]
  },
  {
   "cell_type": "markdown",
   "metadata": {},
   "source": [
    "<u><b><font color = green>P(Kansas | Kansas City) =\n",
    "    (P(Kansas City | Kansas) x P(Kansas)) / P(Kansas City)"
   ]
  },
  {
   "cell_type": "code",
   "execution_count": 2,
   "metadata": {},
   "outputs": [
    {
     "data": {
      "text/html": [
       "0.0571428571428571"
      ],
      "text/latex": [
       "0.0571428571428571"
      ],
      "text/markdown": [
       "0.0571428571428571"
      ],
      "text/plain": [
       "[1] 0.05714286"
      ]
     },
     "metadata": {},
     "output_type": "display_data"
    }
   ],
   "source": [
    "#P(Kansas City | Kansas) = 6/105\n",
    "6/105"
   ]
  },
  {
   "cell_type": "code",
   "execution_count": 3,
   "metadata": {},
   "outputs": [
    {
     "data": {
      "text/html": [
       "0.0684931506849315"
      ],
      "text/latex": [
       "0.0684931506849315"
      ],
      "text/markdown": [
       "0.0684931506849315"
      ],
      "text/plain": [
       "[1] 0.06849315"
      ]
     },
     "metadata": {},
     "output_type": "display_data"
    }
   ],
   "source": [
    "#P(Kansas) = 105/219\n",
    "15/219"
   ]
  },
  {
   "cell_type": "code",
   "execution_count": 4,
   "metadata": {},
   "outputs": [
    {
     "data": {
      "text/html": [
       "0.4"
      ],
      "text/latex": [
       "0.4"
      ],
      "text/markdown": [
       "0.4"
      ],
      "text/plain": [
       "[1] 0.4"
      ]
     },
     "metadata": {},
     "output_type": "display_data"
    }
   ],
   "source": [
    "#P(Kansas | Kansas City)\n",
    "(6/105)*(105/219)/()"
   ]
  },
  {
   "cell_type": "markdown",
   "metadata": {},
   "source": [
    "<b>Q2. A deck of cards has 52 cards with suits that are either red or black. There are four aces in a deck of cards: two red and two black. You remove a red ace from the deck and shuffle the cards. Your friend pulls a black card. What is the probability that it is an ace?"
   ]
  },
  {
   "cell_type": "markdown",
   "metadata": {},
   "source": [
    "cards = 52\n",
    "\n",
    "colors = 2\n",
    "\n",
    "suits = 4\n",
    "\n",
    "aces = 4\n",
    "\n",
    "Subtract Red Ace, \n",
    "\n",
    "Friend pulls black card:\n",
    "\n",
    "black cards = 26\n",
    "\n",
    "total cards remain = 51"
   ]
  },
  {
   "cell_type": "markdown",
   "metadata": {},
   "source": [
    "<b><font color = green>P(ace | black card) = (P(black card | ace)*P(ace)) / P(black card)"
   ]
  },
  {
   "cell_type": "code",
   "execution_count": 7,
   "metadata": {},
   "outputs": [
    {
     "data": {
      "text/html": [
       "0.666666666666667"
      ],
      "text/latex": [
       "0.666666666666667"
      ],
      "text/markdown": [
       "0.666666666666667"
      ],
      "text/plain": [
       "[1] 0.6666667"
      ]
     },
     "metadata": {},
     "output_type": "display_data"
    }
   ],
   "source": [
    "#If we pulled an Ace, the probability of it being black is\n",
    "#P(black card | ace) = 2/3\n",
    "2/3"
   ]
  },
  {
   "cell_type": "code",
   "execution_count": 8,
   "metadata": {},
   "outputs": [
    {
     "data": {
      "text/html": [
       "0.0588235294117647"
      ],
      "text/latex": [
       "0.0588235294117647"
      ],
      "text/markdown": [
       "0.0588235294117647"
      ],
      "text/plain": [
       "[1] 0.05882353"
      ]
     },
     "metadata": {},
     "output_type": "display_data"
    }
   ],
   "source": [
    "#3 Aces remain in a 51 card deck\n",
    "#P(ace) = 3/51\n",
    "3/51"
   ]
  },
  {
   "cell_type": "code",
   "execution_count": 9,
   "metadata": {},
   "outputs": [
    {
     "data": {
      "text/html": [
       "0.509803921568627"
      ],
      "text/latex": [
       "0.509803921568627"
      ],
      "text/markdown": [
       "0.509803921568627"
      ],
      "text/plain": [
       "[1] 0.5098039"
      ]
     },
     "metadata": {},
     "output_type": "display_data"
    }
   ],
   "source": [
    "#26 out of 51 cards are black\n",
    "#P(black card) = 26/51\n",
    "26/51"
   ]
  },
  {
   "cell_type": "code",
   "execution_count": 10,
   "metadata": {},
   "outputs": [],
   "source": [
    "#P(ace | black card) = (2/3)*(3/51)/(26/51)"
   ]
  },
  {
   "cell_type": "code",
   "execution_count": 12,
   "metadata": {},
   "outputs": [
    {
     "data": {
      "text/html": [
       "0.0769230769230769"
      ],
      "text/latex": [
       "0.0769230769230769"
      ],
      "text/markdown": [
       "0.0769230769230769"
      ],
      "text/plain": [
       "[1] 0.07692308"
      ]
     },
     "metadata": {},
     "output_type": "display_data"
    }
   ],
   "source": [
    "(2/3)*(3/51)/(26/51)"
   ]
  },
  {
   "cell_type": "code",
   "execution_count": 23,
   "metadata": {},
   "outputs": [],
   "source": [
    "#Convert Decimal to Fraction\n",
    "ratio<-function(decimal){\n",
    "  denominator=1\n",
    "  while(nchar(decimal*denominator)!=nchar(round(decimal*denominator))){\n",
    "    denominator=denominator+1\n",
    "  }\n",
    "  str=paste(decimal*denominator,\"/\",sep=\"\")\n",
    "  str=paste(str,denominator,sep=\"\")\n",
    "  return(str)\n",
    "}"
   ]
  },
  {
   "cell_type": "code",
   "execution_count": 24,
   "metadata": {},
   "outputs": [
    {
     "data": {
      "text/html": [
       "'1/13'"
      ],
      "text/latex": [
       "'1/13'"
      ],
      "text/markdown": [
       "'1/13'"
      ],
      "text/plain": [
       "[1] \"1/13\""
      ]
     },
     "metadata": {},
     "output_type": "display_data"
    }
   ],
   "source": [
    "ratio(0.0769230769230769)"
   ]
  },
  {
   "cell_type": "markdown",
   "metadata": {},
   "source": [
    "<i><b><font color = green>The probability of the black card being an ace is 1/3 or about 7.7%"
   ]
  }
 ],
 "metadata": {
  "kernelspec": {
   "display_name": "R",
   "language": "R",
   "name": "ir"
  },
  "language_info": {
   "codemirror_mode": "r",
   "file_extension": ".r",
   "mimetype": "text/x-r-source",
   "name": "R",
   "pygments_lexer": "r",
   "version": "3.6.0"
  }
 },
 "nbformat": 4,
 "nbformat_minor": 2
}
