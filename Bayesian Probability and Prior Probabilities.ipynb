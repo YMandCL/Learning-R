{
 "cells": [
  {
   "cell_type": "markdown",
   "metadata": {},
   "source": [
    "## Chapter 6: Conditional Probability"
   ]
  },
  {
   "cell_type": "markdown",
   "metadata": {},
   "source": [
    "<b>Q1. What piece of information would we need in order to use Bayes’ theorem to determine the probability that someone in 2010 who had GBS also had the flu vaccine that year?"
   ]
  },
  {
   "attachments": {
    "Conditional%20Probability.PNG": {
     "image/png": "[encoded data removed]"
    }
   },
   "cell_type": "markdown",
   "metadata": {},
   "source": [
    "![Conditional%20Probability.PNG](attachment:Conditional%20Probability.PNG)"
   ]
  },
  {
   "cell_type": "markdown",
   "metadata": {},
   "source": [
    "<b><i><font color=green> We need to know the probability of getting the flu vaccine. "
   ]
  },
  {
   "cell_type": "markdown",
   "metadata": {},
   "source": [
    "<b>Q2. What is the probability that a random person picked from the population is female and is not color blind?"
   ]
  },
  {
   "cell_type": "markdown",
   "metadata": {},
   "source": [
    "<b><font color=green>P(female)=0.5\n",
    "    \n",
    "P(color blind | female)=0.005\n",
    "\n",
    "1-P(color blind | female)=0.995\n",
    "\n",
    "P(female, not color blind) = P(female)xP(not color blind | female)"
   ]
  },
  {
   "cell_type": "code",
   "execution_count": 1,
   "metadata": {},
   "outputs": [
    {
     "data": {
      "text/html": [
       "0.4975"
      ],
      "text/latex": [
       "0.4975"
      ],
      "text/markdown": [
       "0.4975"
      ],
      "text/plain": [
       "[1] 0.4975"
      ]
     },
     "metadata": {},
     "output_type": "display_data"
    }
   ],
   "source": [
    "0.5*0.995"
   ]
  },
  {
   "cell_type": "markdown",
   "metadata": {},
   "source": [
    "<i><b><font color = green>The probability of a random female not being color blind is nearly 50%."
   ]
  },
  {
   "cell_type": "markdown",
   "metadata": {},
   "source": [
    "<b>Q3. What is the probability that a male who received the flu vaccine in 2010 is either color blind or has GBS?"
   ]
  },
  {
   "cell_type": "markdown",
   "metadata": {},
   "source": [
    "<b><font color=green>P(A) = P(color blind | male)\n",
    "\n",
    "P(B) = P(GBS | flue vaccine)"
   ]
  },
  {
   "cell_type": "markdown",
   "metadata": {},
   "source": [
    "P(A)=4/1000\n",
    "\n",
    "P(B)=3/100,000"
   ]
  },
  {
   "cell_type": "markdown",
   "metadata": {},
   "source": [
    "## Sum Rule"
   ]
  },
  {
   "cell_type": "markdown",
   "metadata": {},
   "source": [
    "<b>P(A or B) = P(A)+P(B) - P(A) x P(B | A)"
   ]
  },
  {
   "cell_type": "markdown",
   "metadata": {},
   "source": [
    "Being color blind is not related to GBS, thus:\n",
    "\n",
    "<b> P(B | A) = P(B)"
   ]
  },
  {
   "cell_type": "code",
   "execution_count": 2,
   "metadata": {},
   "outputs": [
    {
     "data": {
      "text/html": [
       "0.00402988"
      ],
      "text/latex": [
       "0.00402988"
      ],
      "text/markdown": [
       "0.00402988"
      ],
      "text/plain": [
       "[1] 0.00402988"
      ]
     },
     "metadata": {},
     "output_type": "display_data"
    }
   ],
   "source": [
    "100747/25000000"
   ]
  },
  {
   "cell_type": "markdown",
   "metadata": {},
   "source": [
    "<font color = green><b><i>The probability that a male who received the flu vaccine in 2010 is either color blind or has GBS is 0.4%"
   ]
  }
 ],
 "metadata": {
  "kernelspec": {
   "display_name": "R",
   "language": "R",
   "name": "ir"
  },
  "language_info": {
   "codemirror_mode": "r",
   "file_extension": ".r",
   "mimetype": "text/x-r-source",
   "name": "R",
   "pygments_lexer": "r",
   "version": "3.6.0"
  }
 },
 "nbformat": 4,
 "nbformat_minor": 2
}
