{
 "cells": [
  {
   "cell_type": "markdown",
   "metadata": {},
   "source": [
    "## Chapter 5: Beta Distribution, \"A probability of probabilities\""
   ]
  },
  {
   "cell_type": "markdown",
   "metadata": {},
   "source": [
    "<b>This technique enables statistical inference on observed data by determining probabilities we might assign to an event and how strongly we believe in each one. \n",
    "\n",
    "The Beta distribution represents a continuous range of values and is defined by the Probability Density Function (PDF)."
   ]
  },
  {
   "attachments": {
    "Beta%20Distribution%20%28PDF%29.PNG": {
     "image/png": "[encoded data removed]"
    }
   },
   "cell_type": "markdown",
   "metadata": {},
   "source": [
    "![Beta%20Distribution%20%28PDF%29.PNG](attachment:Beta%20Distribution%20%28PDF%29.PNG)"
   ]
  },
  {
   "cell_type": "markdown",
   "metadata": {},
   "source": [
    "    p = probability of an event\n",
    "    \n",
    "    a = # of times we observe an event we want\n",
    "    \n",
    "    B = # of times the event didn't happen\n",
    "    \n",
    "    Total number of trials is a+B"
   ]
  },
  {
   "cell_type": "markdown",
   "metadata": {},
   "source": [
    "=========================================="
   ]
  },
  {
   "cell_type": "markdown",
   "metadata": {},
   "source": [
    "<i><font color = 'green'>Contrast to binomial distribution Probability Mass Function where: \n",
    "\n",
    "<i>k = observations we are interested in\n",
    "\n",
    "<i>n = finite number of total trials\n"
   ]
  },
  {
   "cell_type": "markdown",
   "metadata": {},
   "source": [
    "=========================================="
   ]
  },
  {
   "cell_type": "markdown",
   "metadata": {},
   "source": [
    "## Black Coin Box Example:"
   ]
  },
  {
   "cell_type": "markdown",
   "metadata": {},
   "source": [
    "<b>Total coins used = 41\n",
    "\n",
    "a = 14 wins\n",
    "\n",
    "B = 27 losses\n",
    "\n",
    "break even = 0.5"
   ]
  },
  {
   "cell_type": "code",
   "execution_count": 10,
   "metadata": {},
   "outputs": [
    {
     "data": {
      "text/plain": [
       "0.9807613 with absolute error < 5.9e-06"
      ]
     },
     "metadata": {},
     "output_type": "display_data"
    }
   ],
   "source": [
    "integrate(function(p) dbeta(p,14,27),0,0.5)"
   ]
  },
  {
   "cell_type": "markdown",
   "metadata": {},
   "source": [
    "<b>There is a 98% probability that getting two coins out of the black box is less than 0.5."
   ]
  },
  {
   "cell_type": "markdown",
   "metadata": {},
   "source": [
    "## Example 2:"
   ]
  },
  {
   "cell_type": "markdown",
   "metadata": {},
   "source": [
    "<i>We will only spend money if there is better than 70% chance of pulling desired card is greater than 0.005\n",
    "\n",
    "<b>Total Cards: 1200\n",
    "    \n",
    "a = 5 prize cards pulled\n",
    "\n",
    "B = 1195 undesired cards\n"
   ]
  },
  {
   "cell_type": "code",
   "execution_count": 11,
   "metadata": {},
   "outputs": [
    {
     "data": {
      "text/plain": [
       "0.2850559 with absolute error < 1e-04"
      ]
     },
     "metadata": {},
     "output_type": "display_data"
    }
   ],
   "source": [
    "integrate(function(x) dbeta(x,5,1195),0.005,1)"
   ]
  },
  {
   "cell_type": "markdown",
   "metadata": {},
   "source": [
    "Probability is less than 29%. Do not spend money."
   ]
  }
 ],
 "metadata": {
  "kernelspec": {
   "display_name": "R",
   "language": "R",
   "name": "ir"
  },
  "language_info": {
   "codemirror_mode": "r",
   "file_extension": ".r",
   "mimetype": "text/x-r-source",
   "name": "R",
   "pygments_lexer": "r",
   "version": "3.6.0"
  }
 },
 "nbformat": 4,
 "nbformat_minor": 2
}
