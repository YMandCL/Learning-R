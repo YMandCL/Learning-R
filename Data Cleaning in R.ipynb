{
 "cells": [
  {
   "cell_type": "markdown",
   "metadata": {},
   "source": [
    "## Mastering Machine Learning in R"
   ]
  },
  {
   "cell_type": "markdown",
   "metadata": {},
   "source": [
    "## Chapter 1: Cleaning the Data"
   ]
  },
  {
   "cell_type": "code",
   "execution_count": 1,
   "metadata": {},
   "outputs": [
    {
     "name": "stderr",
     "output_type": "stream",
     "text": [
      "Installing package into 'C:/Users/Watson Turbo/Documents/R/win-library/3.6'\n",
      "(as 'lib' is unspecified)\n"
     ]
    },
    {
     "name": "stdout",
     "output_type": "stream",
     "text": [
      "package 'caret' successfully unpacked and MD5 sums checked\n",
      "\n",
      "The downloaded binary packages are in\n",
      "\tC:\\Users\\Watson Turbo\\AppData\\Local\\Temp\\RtmpO85mHO\\downloaded_packages\n"
     ]
    },
    {
     "name": "stderr",
     "output_type": "stream",
     "text": [
      "Installing package into 'C:/Users/Watson Turbo/Documents/R/win-library/3.6'\n",
      "(as 'lib' is unspecified)\n"
     ]
    },
    {
     "name": "stdout",
     "output_type": "stream",
     "text": [
      "package 'janitor' successfully unpacked and MD5 sums checked\n",
      "\n",
      "The downloaded binary packages are in\n",
      "\tC:\\Users\\Watson Turbo\\AppData\\Local\\Temp\\RtmpO85mHO\\downloaded_packages\n"
     ]
    },
    {
     "name": "stderr",
     "output_type": "stream",
     "text": [
      "Installing package into 'C:/Users/Watson Turbo/Documents/R/win-library/3.6'\n",
      "(as 'lib' is unspecified)\n"
     ]
    },
    {
     "name": "stdout",
     "output_type": "stream",
     "text": [
      "package 'readr' successfully unpacked and MD5 sums checked\n",
      "\n",
      "The downloaded binary packages are in\n",
      "\tC:\\Users\\Watson Turbo\\AppData\\Local\\Temp\\RtmpO85mHO\\downloaded_packages\n"
     ]
    },
    {
     "name": "stderr",
     "output_type": "stream",
     "text": [
      "Installing package into 'C:/Users/Watson Turbo/Documents/R/win-library/3.6'\n",
      "(as 'lib' is unspecified)\n"
     ]
    },
    {
     "name": "stdout",
     "output_type": "stream",
     "text": [
      "package 'sjmisc' successfully unpacked and MD5 sums checked\n",
      "\n",
      "The downloaded binary packages are in\n",
      "\tC:\\Users\\Watson Turbo\\AppData\\Local\\Temp\\RtmpO85mHO\\downloaded_packages\n"
     ]
    },
    {
     "name": "stderr",
     "output_type": "stream",
     "text": [
      "Installing package into 'C:/Users/Watson Turbo/Documents/R/win-library/3.6'\n",
      "(as 'lib' is unspecified)\n"
     ]
    },
    {
     "name": "stdout",
     "output_type": "stream",
     "text": [
      "package 'skimr' successfully unpacked and MD5 sums checked\n",
      "\n",
      "The downloaded binary packages are in\n",
      "\tC:\\Users\\Watson Turbo\\AppData\\Local\\Temp\\RtmpO85mHO\\downloaded_packages\n"
     ]
    },
    {
     "name": "stderr",
     "output_type": "stream",
     "text": [
      "Installing package into 'C:/Users/Watson Turbo/Documents/R/win-library/3.6'\n",
      "(as 'lib' is unspecified)\n"
     ]
    },
    {
     "name": "stdout",
     "output_type": "stream",
     "text": [
      "package 'tidyverse' successfully unpacked and MD5 sums checked\n",
      "\n",
      "The downloaded binary packages are in\n",
      "\tC:\\Users\\Watson Turbo\\AppData\\Local\\Temp\\RtmpO85mHO\\downloaded_packages\n"
     ]
    },
    {
     "name": "stderr",
     "output_type": "stream",
     "text": [
      "Installing package into 'C:/Users/Watson Turbo/Documents/R/win-library/3.6'\n",
      "(as 'lib' is unspecified)\n"
     ]
    },
    {
     "name": "stdout",
     "output_type": "stream",
     "text": [
      "package 'vtreat' successfully unpacked and MD5 sums checked\n",
      "\n",
      "The downloaded binary packages are in\n",
      "\tC:\\Users\\Watson Turbo\\AppData\\Local\\Temp\\RtmpO85mHO\\downloaded_packages\n"
     ]
    }
   ],
   "source": [
    "install.packages(\"caret\")\n",
    "install.packages(\"janitor\")\n",
    "install.packages(\"readr\")\n",
    "install.packages(\"sjmisc\")\n",
    "install.packages(\"skimr\")\n",
    "install.packages(\"tidyverse\")\n",
    "install.packages(\"vtreat\")"
   ]
  },
  {
   "cell_type": "code",
   "execution_count": 2,
   "metadata": {},
   "outputs": [],
   "source": [
    "library(magrittr)"
   ]
  },
  {
   "cell_type": "code",
   "execution_count": 5,
   "metadata": {},
   "outputs": [
    {
     "name": "stderr",
     "output_type": "stream",
     "text": [
      "Parsed with column specification:\n",
      "cols(\n",
      "  .default = col_double(),\n",
      "  type = col_character(),\n",
      "  state = col_character(),\n",
      "  regiment_or_battery = col_character(),\n",
      "  brigade = col_character(),\n",
      "  division = col_character(),\n",
      "  corps = col_character(),\n",
      "  army = col_character(),\n",
      "  july1_Commander = col_character(),\n",
      "  Cdr_casualty = col_character()\n",
      ")\n",
      "See spec(...) for full column specifications.\n"
     ]
    }
   ],
   "source": [
    "#Raw URL\n",
    "gettysburg <- readr::read_csv(\"https://raw.githubusercontent.com/PacktPublishing/Mastering-Machine-Learning-with-R-Third-Edition/master/Data/gettysburg.csv\")"
   ]
  },
  {
   "cell_type": "code",
   "execution_count": 6,
   "metadata": {},
   "outputs": [
    {
     "data": {
      "text/html": [
       "<ol class=list-inline>\n",
       "\t<li>'type'</li>\n",
       "\t<li>'state'</li>\n",
       "\t<li>'regiment_or_battery'</li>\n",
       "\t<li>'brigade'</li>\n",
       "\t<li>'division'</li>\n",
       "\t<li>'corps'</li>\n",
       "\t<li>'army'</li>\n",
       "\t<li>'july1_Commander'</li>\n",
       "\t<li>'Cdr_casualty'</li>\n",
       "\t<li>'men'</li>\n",
       "\t<li>'killed'</li>\n",
       "\t<li>'wounded'</li>\n",
       "\t<li>'captured'</li>\n",
       "\t<li>'missing'</li>\n",
       "\t<li>'total_casualties'</li>\n",
       "\t<li>'3inch_rifles'</li>\n",
       "\t<li>'4.5inch_rifles'</li>\n",
       "\t<li>'10lb_parrots'</li>\n",
       "\t<li>'12lb_howitzers'</li>\n",
       "\t<li>'12lb_napoleons'</li>\n",
       "\t<li>'6lb_howitzers'</li>\n",
       "\t<li>'24lb_howitzers'</li>\n",
       "\t<li>'20lb_parrots'</li>\n",
       "\t<li>'12lb_whitworths'</li>\n",
       "\t<li>'14lb_rifles'</li>\n",
       "\t<li>'total_guns'</li>\n",
       "</ol>\n"
      ],
      "text/latex": [
       "\\begin{enumerate*}\n",
       "\\item 'type'\n",
       "\\item 'state'\n",
       "\\item 'regiment\\_or\\_battery'\n",
       "\\item 'brigade'\n",
       "\\item 'division'\n",
       "\\item 'corps'\n",
       "\\item 'army'\n",
       "\\item 'july1\\_Commander'\n",
       "\\item 'Cdr\\_casualty'\n",
       "\\item 'men'\n",
       "\\item 'killed'\n",
       "\\item 'wounded'\n",
       "\\item 'captured'\n",
       "\\item 'missing'\n",
       "\\item 'total\\_casualties'\n",
       "\\item '3inch\\_rifles'\n",
       "\\item '4.5inch\\_rifles'\n",
       "\\item '10lb\\_parrots'\n",
       "\\item '12lb\\_howitzers'\n",
       "\\item '12lb\\_napoleons'\n",
       "\\item '6lb\\_howitzers'\n",
       "\\item '24lb\\_howitzers'\n",
       "\\item '20lb\\_parrots'\n",
       "\\item '12lb\\_whitworths'\n",
       "\\item '14lb\\_rifles'\n",
       "\\item 'total\\_guns'\n",
       "\\end{enumerate*}\n"
      ],
      "text/markdown": [
       "1. 'type'\n",
       "2. 'state'\n",
       "3. 'regiment_or_battery'\n",
       "4. 'brigade'\n",
       "5. 'division'\n",
       "6. 'corps'\n",
       "7. 'army'\n",
       "8. 'july1_Commander'\n",
       "9. 'Cdr_casualty'\n",
       "10. 'men'\n",
       "11. 'killed'\n",
       "12. 'wounded'\n",
       "13. 'captured'\n",
       "14. 'missing'\n",
       "15. 'total_casualties'\n",
       "16. '3inch_rifles'\n",
       "17. '4.5inch_rifles'\n",
       "18. '10lb_parrots'\n",
       "19. '12lb_howitzers'\n",
       "20. '12lb_napoleons'\n",
       "21. '6lb_howitzers'\n",
       "22. '24lb_howitzers'\n",
       "23. '20lb_parrots'\n",
       "24. '12lb_whitworths'\n",
       "25. '14lb_rifles'\n",
       "26. 'total_guns'\n",
       "\n",
       "\n"
      ],
      "text/plain": [
       " [1] \"type\"                \"state\"               \"regiment_or_battery\"\n",
       " [4] \"brigade\"             \"division\"            \"corps\"              \n",
       " [7] \"army\"                \"july1_Commander\"     \"Cdr_casualty\"       \n",
       "[10] \"men\"                 \"killed\"              \"wounded\"            \n",
       "[13] \"captured\"            \"missing\"             \"total_casualties\"   \n",
       "[16] \"3inch_rifles\"        \"4.5inch_rifles\"      \"10lb_parrots\"       \n",
       "[19] \"12lb_howitzers\"      \"12lb_napoleons\"      \"6lb_howitzers\"      \n",
       "[22] \"24lb_howitzers\"      \"20lb_parrots\"        \"12lb_whitworths\"    \n",
       "[25] \"14lb_rifles\"         \"total_guns\"         "
      ]
     },
     "metadata": {},
     "output_type": "display_data"
    }
   ],
   "source": [
    "colnames(gettysburg)"
   ]
  },
  {
   "cell_type": "code",
   "execution_count": 7,
   "metadata": {},
   "outputs": [
    {
     "data": {
      "text/html": [
       "<ol class=list-inline>\n",
       "\t<li>590</li>\n",
       "\t<li>26</li>\n",
       "</ol>\n"
      ],
      "text/latex": [
       "\\begin{enumerate*}\n",
       "\\item 590\n",
       "\\item 26\n",
       "\\end{enumerate*}\n"
      ],
      "text/markdown": [
       "1. 590\n",
       "2. 26\n",
       "\n",
       "\n"
      ],
      "text/plain": [
       "[1] 590  26"
      ]
     },
     "metadata": {},
     "output_type": "display_data"
    }
   ],
   "source": [
    "dim(gettysburg)"
   ]
  },
  {
   "cell_type": "code",
   "execution_count": 13,
   "metadata": {},
   "outputs": [
    {
     "data": {
      "text/plain": [
       "dupes\n",
       "FALSE  TRUE \n",
       "  587     3 "
      ]
     },
     "metadata": {},
     "output_type": "display_data"
    },
    {
     "data": {
      "text/html": [],
      "text/latex": [],
      "text/markdown": [],
      "text/plain": [
       "integer(0)"
      ]
     },
     "metadata": {},
     "output_type": "display_data"
    }
   ],
   "source": [
    "#create vector of logical values true or false\n",
    "dupes <- duplicated(gettysburg)\n",
    "table(dupes)\n",
    "which(dupes == \"True\")"
   ]
  },
  {
   "cell_type": "code",
   "execution_count": 14,
   "metadata": {},
   "outputs": [],
   "source": [
    "#Remove Duplicates\n",
    "gettysburg <- dplyr::distinct(gettysburg, .keep_all = TRUE)\n",
    "\n",
    "gettysburg %>%\n",
    "  dplyr::filter(army == \"Confederate\" & type == \"Infantry\") %>%\n",
    "#Produce a more readable printout than \"summary(gettysburg)\"\"\n",
    "  sjmisc::descr() -> descr_stats\n",
    "#write to CSV\n",
    "readr::write_csv(descr_stats, 'descr_stats.csv')"
   ]
  },
  {
   "cell_type": "code",
   "execution_count": 15,
   "metadata": {
    "scrolled": true
   },
   "outputs": [
    {
     "name": "stdout",
     "output_type": "stream",
     "text": [
      "-- Data Summary ------------------------\n",
      "                           Values    \n",
      "Name                       gettysburg\n",
      "Number of rows             587       \n",
      "Number of columns          26        \n",
      "_______________________              \n",
      "Column type frequency:               \n",
      "  character                9         \n",
      "  numeric                  17        \n",
      "________________________             \n",
      "Group variables            None      \n",
      "\n",
      "-- Variable type: character ----------------------------------------------------\n",
      "# A tibble: 9 x 8\n",
      "  skim_variable       n_missing complete_rate   min   max empty n_unique\n",
      "* <chr>                   <int>         <dbl> <int> <int> <int>    <int>\n",
      "1 type                        0             1     7     9     0        3\n",
      "2 state                       0             1     2    14     0       30\n",
      "3 regiment_or_battery         0             1     3    28     0      275\n",
      "4 brigade                     0             1     3    14     0      124\n",
      "5 division                    0             1     4    17     0       38\n",
      "6 corps                       0             1     4    10     0       14\n",
      "7 army                        0             1     5    11     0        2\n",
      "8 july1_Commander             0             1    12    29     0      586\n",
      "9 Cdr_casualty                0             1     2    16     0        6\n",
      "  whitespace\n",
      "*      <int>\n",
      "1          0\n",
      "2          0\n",
      "3          0\n",
      "4          0\n",
      "5          0\n",
      "6          0\n",
      "7          0\n",
      "8          0\n",
      "9          0\n",
      "\n",
      "-- Variable type: numeric ------------------------------------------------------\n",
      "# A tibble: 17 x 11\n",
      "   skim_variable    n_missing complete_rate      mean       sd    p0   p25   p50\n",
      " * <chr>                <int>         <dbl>     <dbl>    <dbl> <dbl> <dbl> <dbl>\n",
      " 1 men                      0         1     269.      136.        33  144.   275\n",
      " 2 killed                   6         0.990  17.1      20.3        0    2     10\n",
      " 3 wounded                  6         0.990  43.6      46.9        0    7     29\n",
      " 4 captured                 7         0.988   2.46     12.5        0    0      0\n",
      " 5 missing                 17         0.971  16.5      26.6        0    0      4\n",
      " 6 total_casualties         8         0.986  79.2      84.3        0   12     48\n",
      " 7 3inch_rifles             0         1       0.358     1.24       0    0      0\n",
      " 8 4.5inch_rifles           0         1       0         0          0    0      0\n",
      " 9 10lb_parrots             0         1       0.170     0.837      0    0      0\n",
      "10 12lb_howitzers           0         1       0.0477    0.332      0    0      0\n",
      "11 12lb_napoleons           0         1       0.424     1.33       0    0      0\n",
      "12 6lb_howitzers            0         1       0.00170   0.0413     0    0      0\n",
      "13 24lb_howitzers           0         1       0.00681   0.165      0    0      0\n",
      "14 20lb_parrots             0         1       0.0273    0.329      0    0      0\n",
      "15 12lb_whitworths          0         1       0.00341   0.0825     0    0      0\n",
      "16 14lb_rifles              0         1       0.00681   0.165      0    0      0\n",
      "17 total_guns               0         1       1.05      2.05       0    0      0\n",
      "     p75  p100 hist \n",
      " * <dbl> <dbl> <chr>\n",
      " 1  356    843 <U+2586><U+2587><U+2583><U+2581><U+2581>\n",
      " 2   25    172 <U+2587><U+2582><U+2581><U+2581><U+2581>\n",
      " 3   68    443 <U+2587><U+2581><U+2581><U+2581><U+2581>\n",
      " 4    0    174 <U+2587><U+2581><U+2581><U+2581><U+2581>\n",
      " 5   21    164 <U+2587><U+2581><U+2581><U+2581><U+2581>\n",
      " 6  128.   687 <U+2587><U+2582><U+2581><U+2581><U+2581>\n",
      " 7    0      6 <U+2587><U+2581><U+2581><U+2581><U+2581>\n",
      " 8    0      0 <U+2581><U+2581><U+2587><U+2581><U+2581>\n",
      " 9    0      6 <U+2587><U+2581><U+2581><U+2581><U+2581>\n",
      "10    0      4 <U+2587><U+2581><U+2581><U+2581><U+2581>\n",
      "11    0      6 <U+2587><U+2581><U+2581><U+2581><U+2581>\n",
      "12    0      1 <U+2587><U+2581><U+2581><U+2581><U+2581>\n",
      "13    0      4 <U+2587><U+2581><U+2581><U+2581><U+2581>\n",
      "14    0      6 <U+2587><U+2581><U+2581><U+2581><U+2581>\n",
      "15    0      2 <U+2587><U+2581><U+2581><U+2581><U+2581>\n",
      "16    0      4 <U+2587><U+2581><U+2581><U+2581><U+2581>\n",
      "17    0      6 <U+2587><U+2581><U+2581><U+2581><U+2581>\n"
     ]
    }
   ],
   "source": [
    "skimr::skim(gettysburg)"
   ]
  },
  {
   "cell_type": "markdown",
   "metadata": {},
   "source": [
    "## Exploring Categorical Variables"
   ]
  },
  {
   "cell_type": "code",
   "execution_count": 22,
   "metadata": {},
   "outputs": [
    {
     "data": {
      "text/html": [
       "<table>\n",
       "<thead><tr><th scope=col>dplyr::n_distinct(type)</th><th scope=col>n</th></tr></thead>\n",
       "<tbody>\n",
       "\t<tr><td>3  </td><td>587</td></tr>\n",
       "</tbody>\n",
       "</table>\n"
      ],
      "text/latex": [
       "\\begin{tabular}{r|ll}\n",
       " dplyr::n\\_distinct(type) & n\\\\\n",
       "\\hline\n",
       "\t 3   & 587\\\\\n",
       "\\end{tabular}\n"
      ],
      "text/markdown": [
       "\n",
       "| dplyr::n_distinct(type) | n |\n",
       "|---|---|\n",
       "| 3   | 587 |\n",
       "\n"
      ],
      "text/plain": [
       "  dplyr::n_distinct(type) n  \n",
       "1 3                       587"
      ]
     },
     "metadata": {},
     "output_type": "display_data"
    }
   ],
   "source": [
    "dplyr::count(gettysburg, dplyr::n_distinct(type))"
   ]
  },
  {
   "cell_type": "code",
   "execution_count": 24,
   "metadata": {},
   "outputs": [],
   "source": [
    "# Explore al categorical features using tidyverse\n",
    "gettysburg_cat <-\n",
    "  gettysburg[, sapply(gettysburg, class) == 'character']"
   ]
  },
  {
   "cell_type": "code",
   "execution_count": 25,
   "metadata": {},
   "outputs": [
    {
     "name": "stderr",
     "output_type": "stream",
     "text": [
      "Warning message:\n",
      "\"funs() is soft deprecated as of dplyr 0.8.0\n",
      "Please use a list of either functions or lambdas: \n",
      "\n",
      "  # Simple named list: \n",
      "  list(mean = mean, median = median)\n",
      "\n",
      "  # Auto named with `tibble::lst()`: \n",
      "  tibble::lst(mean, median)\n",
      "\n",
      "  # Using lambdas\n",
      "  list(~ mean(., trim = .2), ~ median(., na.rm = TRUE))\n",
      "This warning is displayed once per session.\""
     ]
    },
    {
     "data": {
      "text/html": [
       "<table>\n",
       "<thead><tr><th scope=col>type</th><th scope=col>state</th><th scope=col>regiment_or_battery</th><th scope=col>brigade</th><th scope=col>division</th><th scope=col>corps</th><th scope=col>army</th><th scope=col>july1_Commander</th><th scope=col>Cdr_casualty</th></tr></thead>\n",
       "<tbody>\n",
       "\t<tr><td>3  </td><td>30 </td><td>275</td><td>124</td><td>38 </td><td>14 </td><td>2  </td><td>586</td><td>6  </td></tr>\n",
       "</tbody>\n",
       "</table>\n"
      ],
      "text/latex": [
       "\\begin{tabular}{r|lllllllll}\n",
       " type & state & regiment\\_or\\_battery & brigade & division & corps & army & july1\\_Commander & Cdr\\_casualty\\\\\n",
       "\\hline\n",
       "\t 3   & 30  & 275 & 124 & 38  & 14  & 2   & 586 & 6  \\\\\n",
       "\\end{tabular}\n"
      ],
      "text/markdown": [
       "\n",
       "| type | state | regiment_or_battery | brigade | division | corps | army | july1_Commander | Cdr_casualty |\n",
       "|---|---|---|---|---|---|---|---|---|\n",
       "| 3   | 30  | 275 | 124 | 38  | 14  | 2   | 586 | 6   |\n",
       "\n"
      ],
      "text/plain": [
       "  type state regiment_or_battery brigade division corps army july1_Commander\n",
       "1 3    30    275                 124     38       14    2    586            \n",
       "  Cdr_casualty\n",
       "1 6           "
      ]
     },
     "metadata": {},
     "output_type": "display_data"
    }
   ],
   "source": [
    "#Summarize all features and num of levels\n",
    "gettysburg_cat %>%\n",
    "  dplyr::summarise_all(dplyr::funs(dplyr::n_distinct(.)))"
   ]
  },
  {
   "cell_type": "code",
   "execution_count": 26,
   "metadata": {},
   "outputs": [
    {
     "name": "stderr",
     "output_type": "stream",
     "text": [
      "Warning message:\n",
      "\"Calling `n()` without importing or prefixing it is deprecated, use `dplyr::n()`.\n",
      "This warning is displayed once per session.\""
     ]
    },
    {
     "data": {
      "text/html": [
       "<table>\n",
       "<thead><tr><th scope=col>Cdr_casualty</th><th scope=col>num_rows</th></tr></thead>\n",
       "<tbody>\n",
       "\t<tr><td>captured        </td><td>  6             </td></tr>\n",
       "\t<tr><td>killed          </td><td> 29             </td></tr>\n",
       "\t<tr><td>mortally wounded</td><td> 24             </td></tr>\n",
       "\t<tr><td>no              </td><td>405             </td></tr>\n",
       "\t<tr><td>wounded         </td><td>104             </td></tr>\n",
       "\t<tr><td>wounded-captured</td><td> 19             </td></tr>\n",
       "</tbody>\n",
       "</table>\n"
      ],
      "text/latex": [
       "\\begin{tabular}{r|ll}\n",
       " Cdr\\_casualty & num\\_rows\\\\\n",
       "\\hline\n",
       "\t captured         &   6             \\\\\n",
       "\t killed           &  29             \\\\\n",
       "\t mortally wounded &  24             \\\\\n",
       "\t no               & 405             \\\\\n",
       "\t wounded          & 104             \\\\\n",
       "\t wounded-captured &  19             \\\\\n",
       "\\end{tabular}\n"
      ],
      "text/markdown": [
       "\n",
       "| Cdr_casualty | num_rows |\n",
       "|---|---|\n",
       "| captured         |   6              |\n",
       "| killed           |  29              |\n",
       "| mortally wounded |  24              |\n",
       "| no               | 405              |\n",
       "| wounded          | 104              |\n",
       "| wounded-captured |  19              |\n",
       "\n"
      ],
      "text/plain": [
       "  Cdr_casualty     num_rows\n",
       "1 captured           6     \n",
       "2 killed            29     \n",
       "3 mortally wounded  24     \n",
       "4 no               405     \n",
       "5 wounded          104     \n",
       "6 wounded-captured  19     "
      ]
     },
     "metadata": {},
     "output_type": "display_data"
    }
   ],
   "source": [
    "#Commander Casualities\n",
    "gettysburg_cat %>% \n",
    "  dplyr::group_by(Cdr_casualty) %>%\n",
    "  dplyr::summarize(num_rows = n())"
   ]
  },
  {
   "cell_type": "code",
   "execution_count": 27,
   "metadata": {},
   "outputs": [
    {
     "data": {
      "text/html": [
       "<table>\n",
       "<thead><tr><th scope=col>army</th><th scope=col>captured</th><th scope=col>killed</th><th scope=col>mortally wounded</th><th scope=col>no</th><th scope=col>wounded</th><th scope=col>wounded-captured</th></tr></thead>\n",
       "<tbody>\n",
       "\t<tr><td>Confederate</td><td>2          </td><td>15         </td><td>13         </td><td>165        </td><td>44         </td><td>17         </td></tr>\n",
       "\t<tr><td>Union      </td><td>4          </td><td>14         </td><td>11         </td><td>240        </td><td>60         </td><td> 2         </td></tr>\n",
       "</tbody>\n",
       "</table>\n"
      ],
      "text/latex": [
       "\\begin{tabular}{r|lllllll}\n",
       " army & captured & killed & mortally wounded & no & wounded & wounded-captured\\\\\n",
       "\\hline\n",
       "\t Confederate & 2           & 15          & 13          & 165         & 44          & 17         \\\\\n",
       "\t Union       & 4           & 14          & 11          & 240         & 60          &  2         \\\\\n",
       "\\end{tabular}\n"
      ],
      "text/markdown": [
       "\n",
       "| army | captured | killed | mortally wounded | no | wounded | wounded-captured |\n",
       "|---|---|---|---|---|---|---|\n",
       "| Confederate | 2           | 15          | 13          | 165         | 44          | 17          |\n",
       "| Union       | 4           | 14          | 11          | 240         | 60          |  2          |\n",
       "\n"
      ],
      "text/plain": [
       "  army        captured killed mortally wounded no  wounded wounded-captured\n",
       "1 Confederate 2        15     13               165 44      17              \n",
       "2 Union       4        14     11               240 60       2              "
      ]
     },
     "metadata": {},
     "output_type": "display_data"
    }
   ],
   "source": [
    "#Compare Commander casualties by army\n",
    "gettysburg_cat %>%\n",
    "  janitor::tabyl(army, Cdr_casualty)"
   ]
  },
  {
   "cell_type": "code",
   "execution_count": 38,
   "metadata": {},
   "outputs": [
    {
     "name": "stdout",
     "output_type": "stream",
     "text": [
      "                    na_count\n",
      "type                       0\n",
      "state                      0\n",
      "regiment_or_battery        0\n",
      "brigade                    0\n",
      "division                   0\n",
      "corps                      0\n",
      "army                       0\n",
      "july1_Commander            0\n",
      "Cdr_casualty               0\n",
      "men                        0\n",
      "killed                     6\n",
      "wounded                    6\n",
      "captured                   7\n",
      "missing                   17\n",
      "total_casualties           8\n",
      "3inch_rifles               0\n",
      "4.5inch_rifles             0\n",
      "10lb_parrots               0\n",
      "12lb_howitzers             0\n",
      "12lb_napoleons             0\n",
      "6lb_howitzers              0\n",
      "24lb_howitzers             0\n",
      "20lb_parrots               0\n",
      "12lb_whitworths            0\n",
      "14lb_rifles                0\n",
      "total_guns                 0\n"
     ]
    }
   ],
   "source": [
    "#Missing values\n",
    "na_count <-\n",
    "  sapply(gettysburg, function(y)\n",
    "    sum(length(which(is.na(\n",
    "      y\n",
    "    )))))\n",
    "\n",
    "na_df <- data.frame(na_count)\n",
    "\n",
    "print(na_df)            "
   ]
  },
  {
   "cell_type": "markdown",
   "metadata": {},
   "source": [
    "<b>  17 Missing Observations"
   ]
  },
  {
   "cell_type": "code",
   "execution_count": 39,
   "metadata": {},
   "outputs": [],
   "source": [
    "#Code dummy feature and change N/A to 0's\n",
    "gettysburg$missing_isNA <- \n",
    "  ifelse(is.na(gettysburg$missing), 1, 0)\n",
    "\n",
    "gettysburg$missing[is.na(gettysburg$missing)] <- 0"
   ]
  },
  {
   "cell_type": "code",
   "execution_count": 41,
   "metadata": {},
   "outputs": [
    {
     "data": {
      "text/html": [
       "<table>\n",
       "<thead><tr><th></th><th scope=col>freqRatio</th><th scope=col>percentUnique</th><th scope=col>zeroVar</th><th scope=col>nzv</th></tr></thead>\n",
       "<tbody>\n",
       "\t<tr><th scope=row>type</th><td>3.186047  </td><td> 0.5110733</td><td>FALSE     </td><td>FALSE     </td></tr>\n",
       "\t<tr><th scope=row>state</th><td>1.094118  </td><td> 5.1107325</td><td>FALSE     </td><td>FALSE     </td></tr>\n",
       "\t<tr><th scope=row>regiment_or_battery</th><td>1.105263  </td><td>46.8483816</td><td>FALSE     </td><td>FALSE     </td></tr>\n",
       "\t<tr><th scope=row>brigade</th><td>1.111111  </td><td>21.1243612</td><td>FALSE     </td><td>FALSE     </td></tr>\n",
       "\t<tr><th scope=row>division</th><td>1.423077  </td><td> 6.4735945</td><td>FALSE     </td><td>FALSE     </td></tr>\n",
       "\t<tr><th scope=row>corps</th><td>1.080000  </td><td> 2.3850085</td><td>FALSE     </td><td>FALSE     </td></tr>\n",
       "</tbody>\n",
       "</table>\n"
      ],
      "text/latex": [
       "\\begin{tabular}{r|llll}\n",
       "  & freqRatio & percentUnique & zeroVar & nzv\\\\\n",
       "\\hline\n",
       "\ttype & 3.186047   &  0.5110733 & FALSE      & FALSE     \\\\\n",
       "\tstate & 1.094118   &  5.1107325 & FALSE      & FALSE     \\\\\n",
       "\tregiment\\_or\\_battery & 1.105263   & 46.8483816 & FALSE      & FALSE     \\\\\n",
       "\tbrigade & 1.111111   & 21.1243612 & FALSE      & FALSE     \\\\\n",
       "\tdivision & 1.423077   &  6.4735945 & FALSE      & FALSE     \\\\\n",
       "\tcorps & 1.080000   &  2.3850085 & FALSE      & FALSE     \\\\\n",
       "\\end{tabular}\n"
      ],
      "text/markdown": [
       "\n",
       "| <!--/--> | freqRatio | percentUnique | zeroVar | nzv |\n",
       "|---|---|---|---|---|\n",
       "| type | 3.186047   |  0.5110733 | FALSE      | FALSE      |\n",
       "| state | 1.094118   |  5.1107325 | FALSE      | FALSE      |\n",
       "| regiment_or_battery | 1.105263   | 46.8483816 | FALSE      | FALSE      |\n",
       "| brigade | 1.111111   | 21.1243612 | FALSE      | FALSE      |\n",
       "| division | 1.423077   |  6.4735945 | FALSE      | FALSE      |\n",
       "| corps | 1.080000   |  2.3850085 | FALSE      | FALSE      |\n",
       "\n"
      ],
      "text/plain": [
       "                    freqRatio percentUnique zeroVar nzv  \n",
       "type                3.186047   0.5110733    FALSE   FALSE\n",
       "state               1.094118   5.1107325    FALSE   FALSE\n",
       "regiment_or_battery 1.105263  46.8483816    FALSE   FALSE\n",
       "brigade             1.111111  21.1243612    FALSE   FALSE\n",
       "division            1.423077   6.4735945    FALSE   FALSE\n",
       "corps               1.080000   2.3850085    FALSE   FALSE"
      ]
     },
     "metadata": {},
     "output_type": "display_data"
    }
   ],
   "source": [
    "#Low or no variance\n",
    "feature_variance <- caret::nearZeroVar(gettysburg, saveMetrics = TRUE)\n",
    "head(feature_variance)"
   ]
  },
  {
   "cell_type": "markdown",
   "metadata": {},
   "source": [
    "<b>freqRatio: ratio of the % frequency for the most common value over the second most common value.\n",
    "\n",
    "percentUnique: number of unique values divided by the total # of samples multiplied by 100."
   ]
  },
  {
   "cell_type": "code",
   "execution_count": 42,
   "metadata": {},
   "outputs": [
    {
     "data": {
      "text/html": [
       "17"
      ],
      "text/latex": [
       "17"
      ],
      "text/markdown": [
       "17"
      ],
      "text/plain": [
       "[1] 17"
      ]
     },
     "metadata": {},
     "output_type": "display_data"
    },
    {
     "data": {
      "text/html": [
       "'4.5inch_rifles'"
      ],
      "text/latex": [
       "'4.5inch\\_rifles'"
      ],
      "text/markdown": [
       "'4.5inch_rifles'"
      ],
      "text/plain": [
       "[1] \"4.5inch_rifles\""
      ]
     },
     "metadata": {},
     "output_type": "display_data"
    }
   ],
   "source": [
    "which(feature_variance$zeroVar == 'TRUE')\n",
    "\n",
    "row.names(feature_variance[17, ])\n",
    "\n",
    "gettysburg_fltrd <- gettysburg[, feature_variance$zeroVar == 'FALSE']"
   ]
  },
  {
   "cell_type": "code",
   "execution_count": 45,
   "metadata": {},
   "outputs": [
    {
     "name": "stdout",
     "output_type": "stream",
     "text": [
      "[1] \"vtreat 1.5.2 inspecting inputs Wed Feb 19 17:31:34 2020\"\n",
      "[1] \"designing treatments Wed Feb 19 17:31:34 2020\"\n",
      "[1] \" have initial level statistics Wed Feb 19 17:31:34 2020\"\n",
      "[1] \" scoring treatments Wed Feb 19 17:31:34 2020\"\n",
      "[1] \"have treatment plan Wed Feb 19 17:31:34 2020\"\n"
     ]
    }
   ],
   "source": [
    "my_treatment <- vtreat::designTreatmentsZ(\n",
    "  dframe = gettysburg_fltrd,\n",
    "  varlist = colnames(gettysburg_fltrd),\n",
    "  minFraction = 0.05\n",
    ")"
   ]
  },
  {
   "cell_type": "code",
   "execution_count": 48,
   "metadata": {},
   "outputs": [
    {
     "data": {
      "text/html": [
       "<ol class=list-inline>\n",
       "\t<li>587</li>\n",
       "\t<li>33</li>\n",
       "</ol>\n"
      ],
      "text/latex": [
       "\\begin{enumerate*}\n",
       "\\item 587\n",
       "\\item 33\n",
       "\\end{enumerate*}\n"
      ],
      "text/markdown": [
       "1. 587\n",
       "2. 33\n",
       "\n",
       "\n"
      ],
      "text/plain": [
       "[1] 587  33"
      ]
     },
     "metadata": {},
     "output_type": "display_data"
    },
    {
     "data": {
      "text/html": [
       "<ol class=list-inline>\n",
       "\t<li>'type_catP'</li>\n",
       "\t<li>'state_catP'</li>\n",
       "\t<li>'regimentOrBattery_catP'</li>\n",
       "\t<li>'brigade_catP'</li>\n",
       "\t<li>'division_catP'</li>\n",
       "\t<li>'corps_catP'</li>\n",
       "\t<li>'july1Commander_catP'</li>\n",
       "\t<li>'cdrCasualty_catP'</li>\n",
       "\t<li>'type_lev_x_Artillery'</li>\n",
       "\t<li>'type_lev_x_Cavalry'</li>\n",
       "\t<li>'type_lev_x_Infantry'</li>\n",
       "\t<li>'state_lev_x_Georgia'</li>\n",
       "\t<li>'state_lev_x_New_York'</li>\n",
       "\t<li>'state_lev_x_North_Carolina'</li>\n",
       "\t<li>'state_lev_x_Pennsylvania'</li>\n",
       "\t<li>'state_lev_x_US'</li>\n",
       "\t<li>'state_lev_x_Virginia'</li>\n",
       "\t<li>'division_lev_x_Artillery_Bde'</li>\n",
       "\t<li>'corps_lev_x_Ewell'</li>\n",
       "\t<li>'corps_lev_x_Hancock'</li>\n",
       "\t<li>'corps_lev_x_Hill'</li>\n",
       "\t<li>'corps_lev_x_Howard'</li>\n",
       "\t<li>'corps_lev_x_Longstreet'</li>\n",
       "\t<li>'corps_lev_x_Pleasonton'</li>\n",
       "\t<li>'corps_lev_x_Reynolds'</li>\n",
       "\t<li>'corps_lev_x_Sedgwick'</li>\n",
       "\t<li>'corps_lev_x_Sickles'</li>\n",
       "\t<li>'corps_lev_x_Slocum'</li>\n",
       "\t<li>'corps_lev_x_Sykes'</li>\n",
       "\t<li>'army_lev_x_Confederate'</li>\n",
       "\t<li>'army_lev_x_Union'</li>\n",
       "\t<li>'cdrCasualty_lev_x_no'</li>\n",
       "\t<li>'cdrCasualty_lev_x_wounded'</li>\n",
       "</ol>\n"
      ],
      "text/latex": [
       "\\begin{enumerate*}\n",
       "\\item 'type\\_catP'\n",
       "\\item 'state\\_catP'\n",
       "\\item 'regimentOrBattery\\_catP'\n",
       "\\item 'brigade\\_catP'\n",
       "\\item 'division\\_catP'\n",
       "\\item 'corps\\_catP'\n",
       "\\item 'july1Commander\\_catP'\n",
       "\\item 'cdrCasualty\\_catP'\n",
       "\\item 'type\\_lev\\_x\\_Artillery'\n",
       "\\item 'type\\_lev\\_x\\_Cavalry'\n",
       "\\item 'type\\_lev\\_x\\_Infantry'\n",
       "\\item 'state\\_lev\\_x\\_Georgia'\n",
       "\\item 'state\\_lev\\_x\\_New\\_York'\n",
       "\\item 'state\\_lev\\_x\\_North\\_Carolina'\n",
       "\\item 'state\\_lev\\_x\\_Pennsylvania'\n",
       "\\item 'state\\_lev\\_x\\_US'\n",
       "\\item 'state\\_lev\\_x\\_Virginia'\n",
       "\\item 'division\\_lev\\_x\\_Artillery\\_Bde'\n",
       "\\item 'corps\\_lev\\_x\\_Ewell'\n",
       "\\item 'corps\\_lev\\_x\\_Hancock'\n",
       "\\item 'corps\\_lev\\_x\\_Hill'\n",
       "\\item 'corps\\_lev\\_x\\_Howard'\n",
       "\\item 'corps\\_lev\\_x\\_Longstreet'\n",
       "\\item 'corps\\_lev\\_x\\_Pleasonton'\n",
       "\\item 'corps\\_lev\\_x\\_Reynolds'\n",
       "\\item 'corps\\_lev\\_x\\_Sedgwick'\n",
       "\\item 'corps\\_lev\\_x\\_Sickles'\n",
       "\\item 'corps\\_lev\\_x\\_Slocum'\n",
       "\\item 'corps\\_lev\\_x\\_Sykes'\n",
       "\\item 'army\\_lev\\_x\\_Confederate'\n",
       "\\item 'army\\_lev\\_x\\_Union'\n",
       "\\item 'cdrCasualty\\_lev\\_x\\_no'\n",
       "\\item 'cdrCasualty\\_lev\\_x\\_wounded'\n",
       "\\end{enumerate*}\n"
      ],
      "text/markdown": [
       "1. 'type_catP'\n",
       "2. 'state_catP'\n",
       "3. 'regimentOrBattery_catP'\n",
       "4. 'brigade_catP'\n",
       "5. 'division_catP'\n",
       "6. 'corps_catP'\n",
       "7. 'july1Commander_catP'\n",
       "8. 'cdrCasualty_catP'\n",
       "9. 'type_lev_x_Artillery'\n",
       "10. 'type_lev_x_Cavalry'\n",
       "11. 'type_lev_x_Infantry'\n",
       "12. 'state_lev_x_Georgia'\n",
       "13. 'state_lev_x_New_York'\n",
       "14. 'state_lev_x_North_Carolina'\n",
       "15. 'state_lev_x_Pennsylvania'\n",
       "16. 'state_lev_x_US'\n",
       "17. 'state_lev_x_Virginia'\n",
       "18. 'division_lev_x_Artillery_Bde'\n",
       "19. 'corps_lev_x_Ewell'\n",
       "20. 'corps_lev_x_Hancock'\n",
       "21. 'corps_lev_x_Hill'\n",
       "22. 'corps_lev_x_Howard'\n",
       "23. 'corps_lev_x_Longstreet'\n",
       "24. 'corps_lev_x_Pleasonton'\n",
       "25. 'corps_lev_x_Reynolds'\n",
       "26. 'corps_lev_x_Sedgwick'\n",
       "27. 'corps_lev_x_Sickles'\n",
       "28. 'corps_lev_x_Slocum'\n",
       "29. 'corps_lev_x_Sykes'\n",
       "30. 'army_lev_x_Confederate'\n",
       "31. 'army_lev_x_Union'\n",
       "32. 'cdrCasualty_lev_x_no'\n",
       "33. 'cdrCasualty_lev_x_wounded'\n",
       "\n",
       "\n"
      ],
      "text/plain": [
       " [1] \"type_catP\"                    \"state_catP\"                  \n",
       " [3] \"regimentOrBattery_catP\"       \"brigade_catP\"                \n",
       " [5] \"division_catP\"                \"corps_catP\"                  \n",
       " [7] \"july1Commander_catP\"          \"cdrCasualty_catP\"            \n",
       " [9] \"type_lev_x_Artillery\"         \"type_lev_x_Cavalry\"          \n",
       "[11] \"type_lev_x_Infantry\"          \"state_lev_x_Georgia\"         \n",
       "[13] \"state_lev_x_New_York\"         \"state_lev_x_North_Carolina\"  \n",
       "[15] \"state_lev_x_Pennsylvania\"     \"state_lev_x_US\"              \n",
       "[17] \"state_lev_x_Virginia\"         \"division_lev_x_Artillery_Bde\"\n",
       "[19] \"corps_lev_x_Ewell\"            \"corps_lev_x_Hancock\"         \n",
       "[21] \"corps_lev_x_Hill\"             \"corps_lev_x_Howard\"          \n",
       "[23] \"corps_lev_x_Longstreet\"       \"corps_lev_x_Pleasonton\"      \n",
       "[25] \"corps_lev_x_Reynolds\"         \"corps_lev_x_Sedgwick\"        \n",
       "[27] \"corps_lev_x_Sickles\"          \"corps_lev_x_Slocum\"          \n",
       "[29] \"corps_lev_x_Sykes\"            \"army_lev_x_Confederate\"      \n",
       "[31] \"army_lev_x_Union\"             \"cdrCasualty_lev_x_no\"        \n",
       "[33] \"cdrCasualty_lev_x_wounded\"   "
      ]
     },
     "metadata": {},
     "output_type": "display_data"
    },
    {
     "data": {
      "text/plain": [
       "\n",
       "0.0800681431005111  0.219761499148211  0.700170357751278 \n",
       "                47                129                411 "
      ]
     },
     "metadata": {},
     "output_type": "display_data"
    }
   ],
   "source": [
    "gettysburg_treated <- vtreat::prepare(my_treatment, gettysburg_fltrd)\n",
    "\n",
    "dim(gettysburg_treated)\n",
    "\n",
    "colnames(gettysburg_treated)\n",
    "\n",
    "table(gettysburg_treated$type_catP)\n",
    "\n",
    "gettysburg_treated <- \n",
    "  gettysburg_treated %>%\n",
    "  dplyr::select(-dplyr::contains('_catP'))"
   ]
  },
  {
   "cell_type": "code",
   "execution_count": 50,
   "metadata": {},
   "outputs": [],
   "source": [
    "#Change column names\n",
    "colnames(gettysburg_treated) <-\n",
    "  sub('_clean', \"\", colnames(gettysburg_treated))\n",
    "\n",
    "colnames(gettysburg_treated) <-\n",
    "  sub('_isBAD', \"_isNA\", colnames(gettysburg_treated))"
   ]
  },
  {
   "cell_type": "code",
   "execution_count": 54,
   "metadata": {},
   "outputs": [
    {
     "data": {
      "text/html": [
       "22"
      ],
      "text/latex": [
       "22"
      ],
      "text/markdown": [
       "22"
      ],
      "text/plain": [
       "[1] 22"
      ]
     },
     "metadata": {},
     "output_type": "display_data"
    },
    {
     "data": {
      "text/html": [
       "<ol class=list-inline>\n",
       "\t<li>'state_lev_x_Virginia'</li>\n",
       "\t<li>'state_lev_x_Georgia'</li>\n",
       "\t<li>'army_lev_x_Confederate'</li>\n",
       "\t<li>NA</li>\n",
       "\t<li>'type_lev_x_Infantry'</li>\n",
       "\t<li>'state_lev_x_New_York'</li>\n",
       "</ol>\n"
      ],
      "text/latex": [
       "\\begin{enumerate*}\n",
       "\\item 'state\\_lev\\_x\\_Virginia'\n",
       "\\item 'state\\_lev\\_x\\_Georgia'\n",
       "\\item 'army\\_lev\\_x\\_Confederate'\n",
       "\\item NA\n",
       "\\item 'type\\_lev\\_x\\_Infantry'\n",
       "\\item 'state\\_lev\\_x\\_New\\_York'\n",
       "\\end{enumerate*}\n"
      ],
      "text/markdown": [
       "1. 'state_lev_x_Virginia'\n",
       "2. 'state_lev_x_Georgia'\n",
       "3. 'army_lev_x_Confederate'\n",
       "4. NA\n",
       "5. 'type_lev_x_Infantry'\n",
       "6. 'state_lev_x_New_York'\n",
       "\n",
       "\n"
      ],
      "text/plain": [
       "[1] \"state_lev_x_Virginia\"   \"state_lev_x_Georgia\"    \"army_lev_x_Confederate\"\n",
       "[4] NA                       \"type_lev_x_Infantry\"    \"state_lev_x_New_York\"  "
      ]
     },
     "metadata": {},
     "output_type": "display_data"
    }
   ],
   "source": [
    "df_corr <- cor(gettysburg_treated, method = \"spearman\")\n",
    "\n",
    "high_corr <- caret::findCorrelation(df_corr, cutoff = 0.9)\n",
    "\n",
    "high_corr\n",
    "colnames(gettysburg_treated)[c(9, 4, 22, 43, 3, 5)]"
   ]
  },
  {
   "cell_type": "code",
   "execution_count": 55,
   "metadata": {},
   "outputs": [],
   "source": [
    "gettysburg_noHighCorr <- gettysburg_treated[, -high_corr]\n",
    "\n",
    "df_corr <- data.frame(df_corr)\n",
    "\n",
    "df_corr$feature1 <- row.names(df_corr)\n",
    "\n",
    "gettysburg_corr <-\n",
    "  tidyr::gather(data = df_corr,\n",
    "                key = \"feature2\",\n",
    "                value = \"correlation\",\n",
    "                -feature1)\n",
    "\n",
    "gettysburg_corr <- \n",
    "  gettysburg_corr %>%\n",
    "  dplyr::filter(feature1 != feature2)"
   ]
  },
  {
   "cell_type": "code",
   "execution_count": 57,
   "metadata": {},
   "outputs": [
    {
     "name": "stdout",
     "output_type": "stream",
     "text": [
      "                        feature1                     feature2   correlation\n",
      "1             type_lev_x_Cavalry         type_lev_x_Artillery -0.1565720238\n",
      "2            type_lev_x_Infantry         type_lev_x_Artillery -0.8110109037\n",
      "3            state_lev_x_Georgia         type_lev_x_Artillery -0.0994430577\n",
      "4           state_lev_x_New_York         type_lev_x_Artillery -0.0430194482\n",
      "5     state_lev_x_North_Carolina         type_lev_x_Artillery -0.0755040931\n",
      "6       state_lev_x_Pennsylvania         type_lev_x_Artillery -0.1556542772\n",
      "7                 state_lev_x_US         type_lev_x_Artillery  0.2347837061\n",
      "8           state_lev_x_Virginia         type_lev_x_Artillery  0.2091387711\n",
      "9   division_lev_x_Artillery_Bde         type_lev_x_Artillery  0.4887169493\n",
      "10             corps_lev_x_Ewell         type_lev_x_Artillery  0.0262349886\n",
      "11           corps_lev_x_Hancock         type_lev_x_Artillery -0.0882522101\n",
      "12              corps_lev_x_Hill         type_lev_x_Artillery -0.0506973508\n",
      "13            corps_lev_x_Howard         type_lev_x_Artillery -0.0333423181\n",
      "14        corps_lev_x_Longstreet         type_lev_x_Artillery  0.0680013824\n",
      "15        corps_lev_x_Pleasonton         type_lev_x_Artillery  0.0053573179\n",
      "16          corps_lev_x_Reynolds         type_lev_x_Artillery -0.0530073028\n",
      "17          corps_lev_x_Sedgwick         type_lev_x_Artillery -0.0292144727\n",
      "18           corps_lev_x_Sickles         type_lev_x_Artillery -0.0675190354\n",
      "19            corps_lev_x_Slocum         type_lev_x_Artillery -0.0549504088\n",
      "20             corps_lev_x_Sykes         type_lev_x_Artillery -0.0618840548\n",
      "21        army_lev_x_Confederate         type_lev_x_Artillery  0.0725171021\n",
      "22              army_lev_x_Union         type_lev_x_Artillery -0.0725171021\n",
      "23          cdrCasualty_lev_x_no         type_lev_x_Artillery  0.1600801906\n",
      "24     cdrCasualty_lev_x_wounded         type_lev_x_Artillery -0.0738652450\n",
      "25          type_lev_x_Artillery           type_lev_x_Cavalry -0.1565720238\n",
      "26           type_lev_x_Infantry           type_lev_x_Cavalry -0.4508339635\n",
      "27           state_lev_x_Georgia           type_lev_x_Cavalry -0.0331910722\n",
      "28          state_lev_x_New_York           type_lev_x_Cavalry -0.0322105941\n",
      "29    state_lev_x_North_Carolina           type_lev_x_Cavalry -0.0282954772\n",
      "30      state_lev_x_Pennsylvania           type_lev_x_Cavalry -0.0202897351\n",
      "31                state_lev_x_US           type_lev_x_Cavalry  0.0009680430\n",
      "32          state_lev_x_Virginia           type_lev_x_Cavalry  0.0954699824\n",
      "33  division_lev_x_Artillery_Bde           type_lev_x_Cavalry -0.0765194018\n",
      "34             corps_lev_x_Ewell           type_lev_x_Cavalry -0.1180373090\n",
      "35           corps_lev_x_Hancock           type_lev_x_Cavalry -0.0900222593\n",
      "36              corps_lev_x_Hill           type_lev_x_Cavalry -0.1067880919\n",
      "37            corps_lev_x_Howard           type_lev_x_Cavalry -0.0696619296\n",
      "38        corps_lev_x_Longstreet           type_lev_x_Cavalry -0.1129139760\n",
      "39        corps_lev_x_Pleasonton           type_lev_x_Cavalry  0.6414477612\n",
      "40          corps_lev_x_Reynolds           type_lev_x_Cavalry -0.0765194018\n",
      "41          corps_lev_x_Sedgwick           type_lev_x_Cavalry -0.0850077777\n",
      "42           corps_lev_x_Sickles           type_lev_x_Cavalry -0.0818989706\n",
      "43            corps_lev_x_Slocum           type_lev_x_Cavalry -0.0708403253\n",
      "44             corps_lev_x_Sykes           type_lev_x_Cavalry -0.0797789620\n",
      "45        army_lev_x_Confederate           type_lev_x_Cavalry -0.0062965559\n",
      "46              army_lev_x_Union           type_lev_x_Cavalry  0.0062965559\n",
      "47          cdrCasualty_lev_x_no           type_lev_x_Cavalry  0.1706268398\n",
      "48     cdrCasualty_lev_x_wounded           type_lev_x_Cavalry -0.1040173668\n",
      "49          type_lev_x_Artillery          type_lev_x_Infantry -0.8110109037\n",
      "50            type_lev_x_Cavalry          type_lev_x_Infantry -0.4508339635\n",
      "51           state_lev_x_Georgia          type_lev_x_Infantry  0.1095323720\n",
      "52          state_lev_x_New_York          type_lev_x_Infantry  0.0579585225\n",
      "53    state_lev_x_North_Carolina          type_lev_x_Infantry  0.0849975912\n",
      "54      state_lev_x_Pennsylvania          type_lev_x_Infantry  0.1526915660\n",
      "55                state_lev_x_US          type_lev_x_Infantry -0.2127601779\n",
      "56          state_lev_x_Virginia          type_lev_x_Infantry -0.2455604160\n",
      "57  division_lev_x_Artillery_Bde          type_lev_x_Infantry -0.3963547747\n",
      "58             corps_lev_x_Ewell          type_lev_x_Infantry  0.0462078354\n",
      "59           corps_lev_x_Hancock          type_lev_x_Infantry  0.1330817878\n",
      "60              corps_lev_x_Hill          type_lev_x_Infantry  0.1090724406\n",
      "61            corps_lev_x_Howard          type_lev_x_Infantry  0.0713965716\n",
      "62        corps_lev_x_Longstreet          type_lev_x_Infantry  0.0054265421\n",
      "63        corps_lev_x_Pleasonton          type_lev_x_Infantry -0.3847946811\n",
      "64          corps_lev_x_Reynolds          type_lev_x_Infantry  0.0932308167\n",
      "65          corps_lev_x_Sedgwick          type_lev_x_Infantry  0.0767559212\n",
      "66           corps_lev_x_Sickles          type_lev_x_Infantry  0.1095323720\n",
      "67            corps_lev_x_Slocum          type_lev_x_Infantry  0.0916229821\n",
      "68             corps_lev_x_Sykes          type_lev_x_Infantry  0.1031839758\n",
      "69        army_lev_x_Confederate          type_lev_x_Infantry -0.0618079583\n",
      "70              army_lev_x_Union          type_lev_x_Infantry  0.0618079583\n",
      "71          cdrCasualty_lev_x_no          type_lev_x_Infantry -0.2457416727\n",
      "72     cdrCasualty_lev_x_wounded          type_lev_x_Infantry  0.1283693214\n",
      "73          type_lev_x_Artillery          state_lev_x_Georgia -0.0994430577\n",
      "74            type_lev_x_Cavalry          state_lev_x_Georgia -0.0331910722\n",
      "75           type_lev_x_Infantry          state_lev_x_Georgia  0.1095323720\n",
      "76          state_lev_x_New_York          state_lev_x_Georgia -0.1142310052\n",
      "77    state_lev_x_North_Carolina          state_lev_x_Georgia -0.0740573928\n",
      "78      state_lev_x_Pennsylvania          state_lev_x_Georgia -0.1070588910\n",
      "79                state_lev_x_US          state_lev_x_Georgia -0.0720022240\n",
      "80          state_lev_x_Virginia          state_lev_x_Georgia -0.1204493315\n",
      "81  division_lev_x_Artillery_Bde          state_lev_x_Georgia -0.0720022240\n",
      "82             corps_lev_x_Ewell          state_lev_x_Georgia  0.0997402725\n",
      "83           corps_lev_x_Hancock          state_lev_x_Georgia -0.0847079660\n",
      "84              corps_lev_x_Hill          state_lev_x_Georgia  0.0647376293\n",
      "85            corps_lev_x_Howard          state_lev_x_Georgia -0.0655495697\n",
      "86        corps_lev_x_Longstreet          state_lev_x_Georgia  0.3095367534\n",
      "87        corps_lev_x_Pleasonton          state_lev_x_Georgia -0.0699022053\n",
      "88          corps_lev_x_Reynolds          state_lev_x_Georgia -0.0720022240\n",
      "89          corps_lev_x_Sedgwick          state_lev_x_Georgia -0.0799895047\n",
      "90           corps_lev_x_Sickles          state_lev_x_Georgia -0.0770642202\n",
      "91            corps_lev_x_Slocum          state_lev_x_Georgia -0.0666584010\n",
      "92             corps_lev_x_Sykes          state_lev_x_Georgia -0.0750693623\n",
      "93        army_lev_x_Confederate          state_lev_x_Georgia  0.3156606223\n",
      "94              army_lev_x_Union          state_lev_x_Georgia -0.3156606223\n",
      "95          cdrCasualty_lev_x_no          state_lev_x_Georgia -0.0425554636\n",
      "96     cdrCasualty_lev_x_wounded          state_lev_x_Georgia -0.0422603470\n",
      "97          type_lev_x_Artillery         state_lev_x_New_York -0.0430194482\n",
      "98            type_lev_x_Cavalry         state_lev_x_New_York -0.0322105941\n",
      "99           type_lev_x_Infantry         state_lev_x_New_York  0.0579585225\n",
      "100          state_lev_x_Georgia         state_lev_x_New_York -0.1142310052\n",
      "101   state_lev_x_North_Carolina         state_lev_x_New_York -0.1097740351\n",
      "102     state_lev_x_Pennsylvania         state_lev_x_New_York -0.1586916042\n",
      "103               state_lev_x_US         state_lev_x_New_York -0.1067276929\n",
      "104         state_lev_x_Virginia         state_lev_x_New_York -0.1785400303\n",
      "105 division_lev_x_Artillery_Bde         state_lev_x_New_York  0.0924747101\n",
      "106            corps_lev_x_Ewell         state_lev_x_New_York -0.1646360187\n",
      "107          corps_lev_x_Hancock         state_lev_x_New_York  0.1692564999\n",
      "108             corps_lev_x_Hill         state_lev_x_New_York -0.1489458413\n",
      "109           corps_lev_x_Howard         state_lev_x_New_York  0.1625775351\n",
      "110       corps_lev_x_Longstreet         state_lev_x_New_York -0.1574900988\n",
      "111       corps_lev_x_Pleasonton         state_lev_x_New_York  0.0190512047\n",
      "112         corps_lev_x_Reynolds         state_lev_x_New_York  0.0924747101\n",
      "113         corps_lev_x_Sedgwick         state_lev_x_New_York  0.0815865678\n",
      "114          corps_lev_x_Sickles         state_lev_x_New_York  0.0923767260\n",
      "115           corps_lev_x_Slocum         state_lev_x_New_York  0.1144267997\n",
      "116            corps_lev_x_Sykes         state_lev_x_New_York -0.0344295035\n",
      "117       army_lev_x_Confederate         state_lev_x_New_York -0.3618791737\n",
      "118             army_lev_x_Union         state_lev_x_New_York  0.3618791737\n",
      "119         cdrCasualty_lev_x_no         state_lev_x_New_York -0.0067579455\n",
      "120    cdrCasualty_lev_x_wounded         state_lev_x_New_York  0.0499601894\n",
      "121         type_lev_x_Artillery   state_lev_x_North_Carolina -0.0755040931\n",
      "122           type_lev_x_Cavalry   state_lev_x_North_Carolina -0.0282954772\n",
      "123          type_lev_x_Infantry   state_lev_x_North_Carolina  0.0849975912\n",
      "124          state_lev_x_Georgia   state_lev_x_North_Carolina -0.0740573928\n",
      "125         state_lev_x_New_York   state_lev_x_North_Carolina -0.1097740351\n",
      "126     state_lev_x_Pennsylvania   state_lev_x_North_Carolina -0.1028817565\n",
      "127               state_lev_x_US   state_lev_x_North_Carolina -0.0691929014\n",
      "128         state_lev_x_Virginia   state_lev_x_North_Carolina -0.1157497400\n",
      "129 division_lev_x_Artillery_Bde   state_lev_x_North_Carolina -0.0691929014\n",
      "130            corps_lev_x_Ewell   state_lev_x_North_Carolina  0.2502660817\n",
      "131          corps_lev_x_Hancock   state_lev_x_North_Carolina -0.0814029012\n",
      "132             corps_lev_x_Hill   state_lev_x_North_Carolina  0.2454139121\n",
      "133           corps_lev_x_Howard   state_lev_x_North_Carolina -0.0629920113\n",
      "134       corps_lev_x_Longstreet   state_lev_x_North_Carolina -0.0406316806\n",
      "135       corps_lev_x_Pleasonton   state_lev_x_North_Carolina -0.0671748194\n",
      "136         corps_lev_x_Reynolds   state_lev_x_North_Carolina -0.0691929014\n",
      "137         corps_lev_x_Sedgwick   state_lev_x_North_Carolina -0.0768685410\n",
      "138          corps_lev_x_Sickles   state_lev_x_North_Carolina -0.0740573928\n",
      "139           corps_lev_x_Slocum   state_lev_x_North_Carolina -0.0640575791\n",
      "140            corps_lev_x_Sykes   state_lev_x_North_Carolina -0.0721403686\n",
      "141       army_lev_x_Confederate   state_lev_x_North_Carolina  0.3033444395\n",
      "142             army_lev_x_Union   state_lev_x_North_Carolina -0.3033444395\n",
      "143         cdrCasualty_lev_x_no   state_lev_x_North_Carolina -0.1169551493\n",
      "144    cdrCasualty_lev_x_wounded   state_lev_x_North_Carolina  0.0553636182\n",
      "145         type_lev_x_Artillery     state_lev_x_Pennsylvania -0.1556542772\n",
      "146           type_lev_x_Cavalry     state_lev_x_Pennsylvania -0.0202897351\n",
      "147          type_lev_x_Infantry     state_lev_x_Pennsylvania  0.1526915660\n",
      "148          state_lev_x_Georgia     state_lev_x_Pennsylvania -0.1070588910\n",
      "149         state_lev_x_New_York     state_lev_x_Pennsylvania -0.1586916042\n",
      "150   state_lev_x_North_Carolina     state_lev_x_Pennsylvania -0.1028817565\n",
      "151               state_lev_x_US     state_lev_x_Pennsylvania -0.1000266821\n",
      "152         state_lev_x_Virginia     state_lev_x_Pennsylvania -0.1673302061\n",
      "153 division_lev_x_Artillery_Bde     state_lev_x_Pennsylvania -0.0582658980\n",
      "154            corps_lev_x_Ewell     state_lev_x_Pennsylvania -0.1542991725\n",
      "155          corps_lev_x_Hancock     state_lev_x_Pennsylvania  0.0641033837\n",
      "156             corps_lev_x_Hill     state_lev_x_Pennsylvania -0.1395941194\n",
      "157           corps_lev_x_Howard     state_lev_x_Pennsylvania  0.0223791236\n",
      "158       corps_lev_x_Longstreet     state_lev_x_Pennsylvania -0.1476019168\n",
      "159       corps_lev_x_Pleasonton     state_lev_x_Pennsylvania  0.0100394954\n",
      "160         corps_lev_x_Reynolds     state_lev_x_Pennsylvania  0.1505380223\n",
      "161         corps_lev_x_Sedgwick     state_lev_x_Pennsylvania  0.0986782969\n",
      "162          corps_lev_x_Sickles     state_lev_x_Pennsylvania  0.0898194580\n",
      "163           corps_lev_x_Slocum     state_lev_x_Pennsylvania  0.0638549157\n",
      "164            corps_lev_x_Sykes     state_lev_x_Pennsylvania  0.1776319736\n",
      "165       army_lev_x_Confederate     state_lev_x_Pennsylvania -0.3391582079\n",
      "166             army_lev_x_Union     state_lev_x_Pennsylvania  0.3391582079\n",
      "167         cdrCasualty_lev_x_no     state_lev_x_Pennsylvania  0.0391004025\n",
      "168    cdrCasualty_lev_x_wounded     state_lev_x_Pennsylvania  0.0071092235\n",
      "169         type_lev_x_Artillery               state_lev_x_US  0.2347837061\n",
      "170           type_lev_x_Cavalry               state_lev_x_US  0.0009680430\n",
      "171          type_lev_x_Infantry               state_lev_x_US -0.2127601779\n",
      "172          state_lev_x_Georgia               state_lev_x_US -0.0720022240\n",
      "173         state_lev_x_New_York               state_lev_x_US -0.1067276929\n",
      "174   state_lev_x_North_Carolina               state_lev_x_US -0.0691929014\n",
      "175     state_lev_x_Pennsylvania               state_lev_x_US -0.1000266821\n",
      "176         state_lev_x_Virginia               state_lev_x_US -0.1125375658\n",
      "177 division_lev_x_Artillery_Bde               state_lev_x_US  0.2788697789\n",
      "178            corps_lev_x_Ewell               state_lev_x_US -0.1037735726\n",
      "179          corps_lev_x_Hancock               state_lev_x_US -0.0289196042\n",
      "180             corps_lev_x_Hill               state_lev_x_US -0.0938837211\n",
      "181           corps_lev_x_Howard               state_lev_x_US -0.0299011284\n",
      "182       corps_lev_x_Longstreet               state_lev_x_US -0.0992693478\n",
      "183       corps_lev_x_Pleasonton               state_lev_x_US  0.2011265397\n",
      "184         corps_lev_x_Reynolds               state_lev_x_US -0.0384275184\n",
      "185         corps_lev_x_Sedgwick               state_lev_x_US  0.0043090658\n",
      "186          corps_lev_x_Sickles               state_lev_x_US  0.0095910298\n",
      "187           corps_lev_x_Slocum               state_lev_x_US -0.0005260128\n",
      "188            corps_lev_x_Sykes               state_lev_x_US  0.2636824685\n",
      "189       army_lev_x_Confederate               state_lev_x_US -0.2281001144\n",
      "190             army_lev_x_Union               state_lev_x_US  0.2281001144\n",
      "191         cdrCasualty_lev_x_no               state_lev_x_US  0.0526209600\n",
      "192    cdrCasualty_lev_x_wounded               state_lev_x_US -0.0469157666\n",
      "193         type_lev_x_Artillery         state_lev_x_Virginia  0.2091387711\n",
      "194           type_lev_x_Cavalry         state_lev_x_Virginia  0.0954699824\n",
      "195          type_lev_x_Infantry         state_lev_x_Virginia -0.2455604160\n",
      "196          state_lev_x_Georgia         state_lev_x_Virginia -0.1204493315\n",
      "197         state_lev_x_New_York         state_lev_x_Virginia -0.1785400303\n",
      "198   state_lev_x_North_Carolina         state_lev_x_Virginia -0.1157497400\n",
      "199     state_lev_x_Pennsylvania         state_lev_x_Virginia -0.1673302061\n",
      "200               state_lev_x_US         state_lev_x_Virginia -0.1125375658\n",
      "201 division_lev_x_Artillery_Bde         state_lev_x_Virginia -0.1125375658\n",
      "202            corps_lev_x_Ewell         state_lev_x_Virginia  0.2592796359\n",
      "203          corps_lev_x_Hancock         state_lev_x_Virginia -0.1323963033\n",
      "204             corps_lev_x_Hill         state_lev_x_Virginia  0.0470367050\n",
      "205           corps_lev_x_Howard         state_lev_x_Virginia -0.1024522383\n",
      "206       corps_lev_x_Longstreet         state_lev_x_Virginia  0.1693488484\n",
      "207       corps_lev_x_Pleasonton         state_lev_x_Virginia -0.1092552923\n",
      "208         corps_lev_x_Reynolds         state_lev_x_Virginia -0.1125375658\n",
      "209         corps_lev_x_Sedgwick         state_lev_x_Virginia -0.1250214736\n",
      "210          corps_lev_x_Sickles         state_lev_x_Virginia -0.1204493315\n",
      "211           corps_lev_x_Slocum         state_lev_x_Virginia -0.1041853122\n",
      "212            corps_lev_x_Sykes         state_lev_x_Virginia -0.1173314215\n",
      "213       army_lev_x_Confederate         state_lev_x_Virginia  0.4933691774\n",
      "214             army_lev_x_Union         state_lev_x_Virginia -0.4933691774\n",
      "215         cdrCasualty_lev_x_no         state_lev_x_Virginia  0.0689434116\n",
      "216    cdrCasualty_lev_x_wounded         state_lev_x_Virginia -0.0547053974\n",
      "217         type_lev_x_Artillery division_lev_x_Artillery_Bde  0.4887169493\n",
      "218           type_lev_x_Cavalry division_lev_x_Artillery_Bde -0.0765194018\n",
      "219          type_lev_x_Infantry division_lev_x_Artillery_Bde -0.3963547747\n",
      "220          state_lev_x_Georgia division_lev_x_Artillery_Bde -0.0720022240\n",
      "221         state_lev_x_New_York division_lev_x_Artillery_Bde  0.0924747101\n",
      "222   state_lev_x_North_Carolina division_lev_x_Artillery_Bde -0.0691929014\n",
      "223     state_lev_x_Pennsylvania division_lev_x_Artillery_Bde -0.0582658980\n",
      "224               state_lev_x_US division_lev_x_Artillery_Bde  0.2788697789\n",
      "225         state_lev_x_Virginia division_lev_x_Artillery_Bde -0.1125375658\n",
      "226            corps_lev_x_Ewell division_lev_x_Artillery_Bde -0.1037735726\n",
      "227          corps_lev_x_Hancock division_lev_x_Artillery_Bde  0.0464168203\n",
      "228             corps_lev_x_Hill division_lev_x_Artillery_Bde -0.0938837211\n",
      "229           corps_lev_x_Howard division_lev_x_Artillery_Bde  0.0954700313\n",
      "230       corps_lev_x_Longstreet division_lev_x_Artillery_Bde -0.0992693478\n",
      "231       corps_lev_x_Pleasonton division_lev_x_Artillery_Bde -0.0653106492\n",
      "232         corps_lev_x_Reynolds division_lev_x_Artillery_Bde  0.0769533170\n",
      "233         corps_lev_x_Sedgwick division_lev_x_Artillery_Bde  0.1360497755\n",
      "234          corps_lev_x_Sickles division_lev_x_Artillery_Bde  0.0639865324\n",
      "235           corps_lev_x_Slocum division_lev_x_Artillery_Bde  0.0612278899\n",
      "236            corps_lev_x_Sykes division_lev_x_Artillery_Bde  0.0689536290\n",
      "237       army_lev_x_Confederate division_lev_x_Artillery_Bde -0.2281001144\n",
      "238             army_lev_x_Union division_lev_x_Artillery_Bde  0.2281001144\n",
      "239         cdrCasualty_lev_x_no division_lev_x_Artillery_Bde  0.0071521128\n",
      "240    cdrCasualty_lev_x_wounded division_lev_x_Artillery_Bde  0.0081633434\n",
      "241         type_lev_x_Artillery            corps_lev_x_Ewell  0.0262349886\n",
      "242           type_lev_x_Cavalry            corps_lev_x_Ewell -0.1180373090\n",
      "243          type_lev_x_Infantry            corps_lev_x_Ewell  0.0462078354\n",
      "244          state_lev_x_Georgia            corps_lev_x_Ewell  0.0997402725\n",
      "245         state_lev_x_New_York            corps_lev_x_Ewell -0.1646360187\n",
      "246   state_lev_x_North_Carolina            corps_lev_x_Ewell  0.2502660817\n",
      "247     state_lev_x_Pennsylvania            corps_lev_x_Ewell -0.1542991725\n",
      "248               state_lev_x_US            corps_lev_x_Ewell -0.1037735726\n",
      "249         state_lev_x_Virginia            corps_lev_x_Ewell  0.2592796359\n",
      "250 division_lev_x_Artillery_Bde            corps_lev_x_Ewell -0.1037735726\n",
      "251          corps_lev_x_Hancock            corps_lev_x_Ewell -0.1220857879\n",
      "252             corps_lev_x_Hill            corps_lev_x_Ewell -0.1448231630\n",
      "253           corps_lev_x_Howard            corps_lev_x_Ewell -0.0944736516\n",
      "254       corps_lev_x_Longstreet            corps_lev_x_Ewell -0.1531309237\n",
      "255       corps_lev_x_Pleasonton            corps_lev_x_Ewell -0.1007469099\n",
      "256         corps_lev_x_Reynolds            corps_lev_x_Ewell -0.1037735726\n",
      "257         corps_lev_x_Sedgwick            corps_lev_x_Ewell -0.1152852816\n",
      "258          corps_lev_x_Sickles            corps_lev_x_Ewell -0.1110692003\n",
      "259           corps_lev_x_Slocum            corps_lev_x_Ewell -0.0960717604\n",
      "260            corps_lev_x_Sykes            corps_lev_x_Ewell -0.1081941012\n",
      "261       army_lev_x_Confederate            corps_lev_x_Ewell  0.4549474815\n",
      "262             army_lev_x_Union            corps_lev_x_Ewell -0.4549474815\n",
      "263         cdrCasualty_lev_x_no            corps_lev_x_Ewell  0.0012189723\n",
      "264    cdrCasualty_lev_x_wounded            corps_lev_x_Ewell -0.0045400352\n",
      "265         type_lev_x_Artillery          corps_lev_x_Hancock -0.0882522101\n",
      "266           type_lev_x_Cavalry          corps_lev_x_Hancock -0.0900222593\n",
      "267          type_lev_x_Infantry          corps_lev_x_Hancock  0.1330817878\n",
      "268          state_lev_x_Georgia          corps_lev_x_Hancock -0.0847079660\n",
      "269         state_lev_x_New_York          corps_lev_x_Hancock  0.1692564999\n",
      "270   state_lev_x_North_Carolina          corps_lev_x_Hancock -0.0814029012\n",
      "271     state_lev_x_Pennsylvania          corps_lev_x_Hancock  0.0641033837\n",
      "272               state_lev_x_US          corps_lev_x_Hancock -0.0289196042\n",
      "273         state_lev_x_Virginia          corps_lev_x_Hancock -0.1323963033\n",
      "274 division_lev_x_Artillery_Bde          corps_lev_x_Hancock  0.0464168203\n",
      "275            corps_lev_x_Ewell          corps_lev_x_Hancock -0.1220857879\n",
      "276             corps_lev_x_Hill          corps_lev_x_Hancock -0.1104507417\n",
      "277           corps_lev_x_Howard          corps_lev_x_Hancock -0.0720512153\n",
      "278       corps_lev_x_Longstreet          corps_lev_x_Hancock -0.1167867332\n",
      "279       corps_lev_x_Pleasonton          corps_lev_x_Hancock -0.0768355745\n",
      "280         corps_lev_x_Reynolds          corps_lev_x_Hancock -0.0791438871\n",
      "281         corps_lev_x_Sedgwick          corps_lev_x_Hancock -0.0879233998\n",
      "282          corps_lev_x_Sickles          corps_lev_x_Hancock -0.0847079660\n",
      "283           corps_lev_x_Slocum          corps_lev_x_Hancock -0.0732700279\n",
      "284            corps_lev_x_Sykes          corps_lev_x_Hancock -0.0825152447\n",
      "285       army_lev_x_Confederate          corps_lev_x_Hancock -0.2683513875\n",
      "286             army_lev_x_Union          corps_lev_x_Hancock  0.2683513875\n",
      "287         cdrCasualty_lev_x_no          corps_lev_x_Hancock -0.1121220667\n",
      "288    cdrCasualty_lev_x_wounded          corps_lev_x_Hancock  0.0502109614\n",
      "289         type_lev_x_Artillery             corps_lev_x_Hill -0.0506973508\n",
      "290           type_lev_x_Cavalry             corps_lev_x_Hill -0.1067880919\n",
      "291          type_lev_x_Infantry             corps_lev_x_Hill  0.1090724406\n",
      "292          state_lev_x_Georgia             corps_lev_x_Hill  0.0647376293\n",
      "293         state_lev_x_New_York             corps_lev_x_Hill -0.1489458413\n",
      "294   state_lev_x_North_Carolina             corps_lev_x_Hill  0.2454139121\n",
      "295     state_lev_x_Pennsylvania             corps_lev_x_Hill -0.1395941194\n",
      "296               state_lev_x_US             corps_lev_x_Hill -0.0938837211\n",
      "297         state_lev_x_Virginia             corps_lev_x_Hill  0.0470367050\n",
      "298 division_lev_x_Artillery_Bde             corps_lev_x_Hill -0.0938837211\n",
      "299            corps_lev_x_Ewell             corps_lev_x_Hill -0.1448231630\n",
      "300          corps_lev_x_Hancock             corps_lev_x_Hill -0.1104507417\n",
      "301           corps_lev_x_Howard             corps_lev_x_Hill -0.0854701032\n",
      "302       corps_lev_x_Longstreet             corps_lev_x_Hill -0.1385372073\n",
      "303       corps_lev_x_Pleasonton             corps_lev_x_Hill -0.0911455061\n",
      "304         corps_lev_x_Reynolds             corps_lev_x_Hill -0.0938837211\n",
      "305         corps_lev_x_Sedgwick             corps_lev_x_Hill -0.1042983387\n",
      "306          corps_lev_x_Sickles             corps_lev_x_Hill -0.1004840594\n",
      "307           corps_lev_x_Slocum             corps_lev_x_Hill -0.0869159087\n",
      "308            corps_lev_x_Sykes             corps_lev_x_Hill -0.0978829636\n",
      "309       army_lev_x_Confederate             corps_lev_x_Hill  0.4115899783\n",
      "310             army_lev_x_Union             corps_lev_x_Hill -0.4115899783\n",
      "311         cdrCasualty_lev_x_no             corps_lev_x_Hill -0.0911111087\n",
      "312    cdrCasualty_lev_x_wounded             corps_lev_x_Hill -0.0146065196\n",
      "313         type_lev_x_Artillery           corps_lev_x_Howard -0.0333423181\n",
      "314           type_lev_x_Cavalry           corps_lev_x_Howard -0.0696619296\n",
      "315          type_lev_x_Infantry           corps_lev_x_Howard  0.0713965716\n",
      "316          state_lev_x_Georgia           corps_lev_x_Howard -0.0655495697\n",
      "317         state_lev_x_New_York           corps_lev_x_Howard  0.1625775351\n",
      "318   state_lev_x_North_Carolina           corps_lev_x_Howard -0.0629920113\n",
      "319     state_lev_x_Pennsylvania           corps_lev_x_Howard  0.0223791236\n",
      "320               state_lev_x_US           corps_lev_x_Howard -0.0299011284\n",
      "321         state_lev_x_Virginia           corps_lev_x_Howard -0.1024522383\n",
      "322 division_lev_x_Artillery_Bde           corps_lev_x_Howard  0.0954700313\n",
      "323            corps_lev_x_Ewell           corps_lev_x_Howard -0.0944736516\n",
      "324          corps_lev_x_Hancock           corps_lev_x_Howard -0.0720512153\n",
      "325             corps_lev_x_Hill           corps_lev_x_Howard -0.0854701032\n",
      "326       corps_lev_x_Longstreet           corps_lev_x_Howard -0.0903730839\n",
      "327       corps_lev_x_Pleasonton           corps_lev_x_Howard -0.0594576766\n",
      "328         corps_lev_x_Reynolds           corps_lev_x_Howard -0.0612439183\n",
      "329         corps_lev_x_Sedgwick           corps_lev_x_Howard -0.0680377691\n",
      "330          corps_lev_x_Sickles           corps_lev_x_Howard -0.0655495697\n",
      "331           corps_lev_x_Slocum           corps_lev_x_Howard -0.0566985495\n",
      "332            corps_lev_x_Sykes           corps_lev_x_Howard -0.0638527761\n",
      "333       army_lev_x_Confederate           corps_lev_x_Howard -0.2076583682\n",
      "334             army_lev_x_Union           corps_lev_x_Howard  0.2076583682\n",
      "335         cdrCasualty_lev_x_no           corps_lev_x_Howard -0.0063966619\n",
      "336    cdrCasualty_lev_x_wounded           corps_lev_x_Howard -0.0098217611\n",
      "337         type_lev_x_Artillery       corps_lev_x_Longstreet  0.0680013824\n",
      "338           type_lev_x_Cavalry       corps_lev_x_Longstreet -0.1129139760\n",
      "339          type_lev_x_Infantry       corps_lev_x_Longstreet  0.0054265421\n",
      "340          state_lev_x_Georgia       corps_lev_x_Longstreet  0.3095367534\n",
      "341         state_lev_x_New_York       corps_lev_x_Longstreet -0.1574900988\n",
      "342   state_lev_x_North_Carolina       corps_lev_x_Longstreet -0.0406316806\n",
      "343     state_lev_x_Pennsylvania       corps_lev_x_Longstreet -0.1476019168\n",
      "344               state_lev_x_US       corps_lev_x_Longstreet -0.0992693478\n",
      "345         state_lev_x_Virginia       corps_lev_x_Longstreet  0.1693488484\n",
      "346 division_lev_x_Artillery_Bde       corps_lev_x_Longstreet -0.0992693478\n",
      "347            corps_lev_x_Ewell       corps_lev_x_Longstreet -0.1531309237\n",
      "348          corps_lev_x_Hancock       corps_lev_x_Longstreet -0.1167867332\n",
      "349             corps_lev_x_Hill       corps_lev_x_Longstreet -0.1385372073\n",
      "350           corps_lev_x_Howard       corps_lev_x_Longstreet -0.0903730839\n",
      "351       corps_lev_x_Pleasonton       corps_lev_x_Longstreet -0.0963740554\n",
      "352         corps_lev_x_Reynolds       corps_lev_x_Longstreet -0.0992693478\n",
      "353         corps_lev_x_Sedgwick       corps_lev_x_Longstreet -0.1102813985\n",
      "354          corps_lev_x_Sickles       corps_lev_x_Longstreet -0.1062483135\n",
      "355           corps_lev_x_Slocum       corps_lev_x_Longstreet -0.0919018278\n",
      "356            corps_lev_x_Sykes       corps_lev_x_Longstreet -0.1034980062\n",
      "357       army_lev_x_Confederate       corps_lev_x_Longstreet  0.4352007804\n",
      "358             army_lev_x_Union       corps_lev_x_Longstreet -0.4352007804\n",
      "359         cdrCasualty_lev_x_no       corps_lev_x_Longstreet -0.1296001346\n",
      "360    cdrCasualty_lev_x_wounded       corps_lev_x_Longstreet  0.0496136734\n",
      "361         type_lev_x_Artillery       corps_lev_x_Pleasonton  0.0053573179\n",
      "362           type_lev_x_Cavalry       corps_lev_x_Pleasonton  0.6414477612\n",
      "363          type_lev_x_Infantry       corps_lev_x_Pleasonton -0.3847946811\n",
      "364          state_lev_x_Georgia       corps_lev_x_Pleasonton -0.0699022053\n",
      "365         state_lev_x_New_York       corps_lev_x_Pleasonton  0.0190512047\n",
      "366   state_lev_x_North_Carolina       corps_lev_x_Pleasonton -0.0671748194\n",
      "367     state_lev_x_Pennsylvania       corps_lev_x_Pleasonton  0.0100394954\n",
      "368               state_lev_x_US       corps_lev_x_Pleasonton  0.2011265397\n",
      "369         state_lev_x_Virginia       corps_lev_x_Pleasonton -0.1092552923\n",
      "370 division_lev_x_Artillery_Bde       corps_lev_x_Pleasonton -0.0653106492\n",
      "371            corps_lev_x_Ewell       corps_lev_x_Pleasonton -0.1007469099\n",
      "372          corps_lev_x_Hancock       corps_lev_x_Pleasonton -0.0768355745\n",
      "373             corps_lev_x_Hill       corps_lev_x_Pleasonton -0.0911455061\n",
      "374           corps_lev_x_Howard       corps_lev_x_Pleasonton -0.0594576766\n",
      "375       corps_lev_x_Longstreet       corps_lev_x_Pleasonton -0.0963740554\n",
      "376         corps_lev_x_Reynolds       corps_lev_x_Pleasonton -0.0653106492\n",
      "377         corps_lev_x_Sedgwick       corps_lev_x_Pleasonton -0.0725556266\n",
      "378          corps_lev_x_Sickles       corps_lev_x_Pleasonton -0.0699022053\n",
      "379           corps_lev_x_Slocum       corps_lev_x_Pleasonton -0.0604634579\n",
      "380            corps_lev_x_Sykes       corps_lev_x_Pleasonton -0.0680927409\n",
      "381       army_lev_x_Confederate       corps_lev_x_Pleasonton -0.2214473406\n",
      "382             army_lev_x_Union       corps_lev_x_Pleasonton  0.2214473406\n",
      "383         cdrCasualty_lev_x_no       corps_lev_x_Pleasonton  0.1688000868\n",
      "384    cdrCasualty_lev_x_wounded       corps_lev_x_Pleasonton -0.1168443152\n",
      "385         type_lev_x_Artillery         corps_lev_x_Reynolds -0.0530073028\n",
      "386           type_lev_x_Cavalry         corps_lev_x_Reynolds -0.0765194018\n",
      "387          type_lev_x_Infantry         corps_lev_x_Reynolds  0.0932308167\n",
      "388          state_lev_x_Georgia         corps_lev_x_Reynolds -0.0720022240\n",
      "389         state_lev_x_New_York         corps_lev_x_Reynolds  0.0924747101\n",
      "390   state_lev_x_North_Carolina         corps_lev_x_Reynolds -0.0691929014\n",
      "391     state_lev_x_Pennsylvania         corps_lev_x_Reynolds  0.1505380223\n",
      "392               state_lev_x_US         corps_lev_x_Reynolds -0.0384275184\n",
      "393         state_lev_x_Virginia         corps_lev_x_Reynolds -0.1125375658\n",
      "394 division_lev_x_Artillery_Bde         corps_lev_x_Reynolds  0.0769533170\n",
      "395            corps_lev_x_Ewell         corps_lev_x_Reynolds -0.1037735726\n",
      "396          corps_lev_x_Hancock         corps_lev_x_Reynolds -0.0791438871\n",
      "397             corps_lev_x_Hill         corps_lev_x_Reynolds -0.0938837211\n",
      "398           corps_lev_x_Howard         corps_lev_x_Reynolds -0.0612439183\n",
      "399       corps_lev_x_Longstreet         corps_lev_x_Reynolds -0.0992693478\n",
      "400       corps_lev_x_Pleasonton         corps_lev_x_Reynolds -0.0653106492\n",
      "401         corps_lev_x_Sedgwick         corps_lev_x_Reynolds -0.0747353600\n",
      "402          corps_lev_x_Sickles         corps_lev_x_Reynolds -0.0720022240\n",
      "403           corps_lev_x_Slocum         corps_lev_x_Reynolds -0.0622799155\n",
      "404            corps_lev_x_Sykes         corps_lev_x_Reynolds -0.0701383992\n",
      "405       army_lev_x_Confederate         corps_lev_x_Reynolds -0.2281001144\n",
      "406             army_lev_x_Union         corps_lev_x_Reynolds  0.2281001144\n",
      "407         cdrCasualty_lev_x_no         corps_lev_x_Reynolds -0.1444107112\n",
      "408    cdrCasualty_lev_x_wounded         corps_lev_x_Reynolds  0.1734006734\n",
      "409         type_lev_x_Artillery         corps_lev_x_Sedgwick -0.0292144727\n",
      "410           type_lev_x_Cavalry         corps_lev_x_Sedgwick -0.0850077777\n",
      "411          type_lev_x_Infantry         corps_lev_x_Sedgwick  0.0767559212\n",
      "412          state_lev_x_Georgia         corps_lev_x_Sedgwick -0.0799895047\n",
      "413         state_lev_x_New_York         corps_lev_x_Sedgwick  0.0815865678\n",
      "414   state_lev_x_North_Carolina         corps_lev_x_Sedgwick -0.0768685410\n",
      "415     state_lev_x_Pennsylvania         corps_lev_x_Sedgwick  0.0986782969\n",
      "416               state_lev_x_US         corps_lev_x_Sedgwick  0.0043090658\n",
      "417         state_lev_x_Virginia         corps_lev_x_Sedgwick -0.1250214736\n",
      "418 division_lev_x_Artillery_Bde         corps_lev_x_Sedgwick  0.1360497755\n",
      "419            corps_lev_x_Ewell         corps_lev_x_Sedgwick -0.1152852816\n",
      "420          corps_lev_x_Hancock         corps_lev_x_Sedgwick -0.0879233998\n",
      "421             corps_lev_x_Hill         corps_lev_x_Sedgwick -0.1042983387\n",
      "422           corps_lev_x_Howard         corps_lev_x_Sedgwick -0.0680377691\n",
      "423       corps_lev_x_Longstreet         corps_lev_x_Sedgwick -0.1102813985\n",
      "424       corps_lev_x_Pleasonton         corps_lev_x_Sedgwick -0.0725556266\n",
      "425         corps_lev_x_Reynolds         corps_lev_x_Sedgwick -0.0747353600\n",
      "426          corps_lev_x_Sickles         corps_lev_x_Sedgwick -0.0799895047\n",
      "427           corps_lev_x_Slocum         corps_lev_x_Sedgwick -0.0691886905\n",
      "428            corps_lev_x_Sykes         corps_lev_x_Sedgwick -0.0779189239\n",
      "429       army_lev_x_Confederate         corps_lev_x_Sedgwick -0.2534034944\n",
      "430             army_lev_x_Union         corps_lev_x_Sedgwick  0.2534034944\n",
      "431         cdrCasualty_lev_x_no         corps_lev_x_Sedgwick  0.1793146962\n",
      "432    cdrCasualty_lev_x_wounded         corps_lev_x_Sedgwick -0.1169352933\n",
      "433         type_lev_x_Artillery          corps_lev_x_Sickles -0.0675190354\n",
      "434           type_lev_x_Cavalry          corps_lev_x_Sickles -0.0818989706\n",
      "435          type_lev_x_Infantry          corps_lev_x_Sickles  0.1095323720\n",
      "436          state_lev_x_Georgia          corps_lev_x_Sickles -0.0770642202\n",
      "437         state_lev_x_New_York          corps_lev_x_Sickles  0.0923767260\n",
      "438   state_lev_x_North_Carolina          corps_lev_x_Sickles -0.0740573928\n",
      "439     state_lev_x_Pennsylvania          corps_lev_x_Sickles  0.0898194580\n",
      "440               state_lev_x_US          corps_lev_x_Sickles  0.0095910298\n",
      "441         state_lev_x_Virginia          corps_lev_x_Sickles -0.1204493315\n",
      "442 division_lev_x_Artillery_Bde          corps_lev_x_Sickles  0.0639865324\n",
      "443            corps_lev_x_Ewell          corps_lev_x_Sickles -0.1110692003\n",
      "444          corps_lev_x_Hancock          corps_lev_x_Sickles -0.0847079660\n",
      "445             corps_lev_x_Hill          corps_lev_x_Sickles -0.1004840594\n",
      "446           corps_lev_x_Howard          corps_lev_x_Sickles -0.0655495697\n",
      "447       corps_lev_x_Longstreet          corps_lev_x_Sickles -0.1062483135\n",
      "448       corps_lev_x_Pleasonton          corps_lev_x_Sickles -0.0699022053\n",
      "449         corps_lev_x_Reynolds          corps_lev_x_Sickles -0.0720022240\n",
      "450         corps_lev_x_Sedgwick          corps_lev_x_Sickles -0.0799895047\n",
      "451           corps_lev_x_Slocum          corps_lev_x_Sickles -0.0666584010\n",
      "452            corps_lev_x_Sykes          corps_lev_x_Sickles -0.0750693623\n",
      "453       army_lev_x_Confederate          corps_lev_x_Sickles -0.2441363121\n",
      "454             army_lev_x_Union          corps_lev_x_Sickles  0.2441363121\n",
      "455         cdrCasualty_lev_x_no          corps_lev_x_Sickles -0.0997180658\n",
      "456    cdrCasualty_lev_x_wounded          corps_lev_x_Sickles  0.1481618866\n",
      "457         type_lev_x_Artillery           corps_lev_x_Slocum -0.0549504088\n",
      "458           type_lev_x_Cavalry           corps_lev_x_Slocum -0.0708403253\n",
      "459          type_lev_x_Infantry           corps_lev_x_Slocum  0.0916229821\n",
      "460          state_lev_x_Georgia           corps_lev_x_Slocum -0.0666584010\n",
      "461         state_lev_x_New_York           corps_lev_x_Slocum  0.1144267997\n",
      "462   state_lev_x_North_Carolina           corps_lev_x_Slocum -0.0640575791\n",
      "463     state_lev_x_Pennsylvania           corps_lev_x_Slocum  0.0638549157\n",
      "464               state_lev_x_US           corps_lev_x_Slocum -0.0005260128\n",
      "465         state_lev_x_Virginia           corps_lev_x_Slocum -0.1041853122\n",
      "466 division_lev_x_Artillery_Bde           corps_lev_x_Slocum  0.0612278899\n",
      "467            corps_lev_x_Ewell           corps_lev_x_Slocum -0.0960717604\n",
      "468          corps_lev_x_Hancock           corps_lev_x_Slocum -0.0732700279\n",
      "469             corps_lev_x_Hill           corps_lev_x_Slocum -0.0869159087\n",
      "470           corps_lev_x_Howard           corps_lev_x_Slocum -0.0566985495\n",
      "471       corps_lev_x_Longstreet           corps_lev_x_Slocum -0.0919018278\n",
      "472       corps_lev_x_Pleasonton           corps_lev_x_Slocum -0.0604634579\n",
      "473         corps_lev_x_Reynolds           corps_lev_x_Slocum -0.0622799155\n",
      "474         corps_lev_x_Sedgwick           corps_lev_x_Slocum -0.0691886905\n",
      "475          corps_lev_x_Sickles           corps_lev_x_Slocum -0.0666584010\n",
      "476            corps_lev_x_Sykes           corps_lev_x_Slocum -0.0649329046\n",
      "477       army_lev_x_Confederate           corps_lev_x_Slocum -0.2111711006\n",
      "478             army_lev_x_Union           corps_lev_x_Slocum  0.2111711006\n",
      "479         cdrCasualty_lev_x_no           corps_lev_x_Slocum  0.0960716128\n",
      "480    cdrCasualty_lev_x_wounded           corps_lev_x_Slocum -0.0524635025\n",
      "481         type_lev_x_Artillery            corps_lev_x_Sykes -0.0618840548\n",
      "482           type_lev_x_Cavalry            corps_lev_x_Sykes -0.0797789620\n",
      "483          type_lev_x_Infantry            corps_lev_x_Sykes  0.1031839758\n",
      "484          state_lev_x_Georgia            corps_lev_x_Sykes -0.0750693623\n",
      "485         state_lev_x_New_York            corps_lev_x_Sykes -0.0344295035\n",
      "486   state_lev_x_North_Carolina            corps_lev_x_Sykes -0.0721403686\n",
      "487     state_lev_x_Pennsylvania            corps_lev_x_Sykes  0.1776319736\n",
      "488               state_lev_x_US            corps_lev_x_Sykes  0.2636824685\n",
      "489         state_lev_x_Virginia            corps_lev_x_Sykes -0.1173314215\n",
      "490 division_lev_x_Artillery_Bde            corps_lev_x_Sykes  0.0689536290\n",
      "491            corps_lev_x_Ewell            corps_lev_x_Sykes -0.1081941012\n",
      "492          corps_lev_x_Hancock            corps_lev_x_Sykes -0.0825152447\n",
      "493             corps_lev_x_Hill            corps_lev_x_Sykes -0.0978829636\n",
      "494           corps_lev_x_Howard            corps_lev_x_Sykes -0.0638527761\n",
      "495       corps_lev_x_Longstreet            corps_lev_x_Sykes -0.1034980062\n",
      "496       corps_lev_x_Pleasonton            corps_lev_x_Sykes -0.0680927409\n",
      "497         corps_lev_x_Reynolds            corps_lev_x_Sykes -0.0701383992\n",
      "498         corps_lev_x_Sedgwick            corps_lev_x_Sykes -0.0779189239\n",
      "499          corps_lev_x_Sickles            corps_lev_x_Sykes -0.0750693623\n",
      "500           corps_lev_x_Slocum            corps_lev_x_Sykes -0.0649329046\n",
      "501       army_lev_x_Confederate            corps_lev_x_Sykes -0.2378166835\n",
      "502             army_lev_x_Union            corps_lev_x_Sykes  0.2378166835\n",
      "503         cdrCasualty_lev_x_no            corps_lev_x_Sykes  0.0643436428\n",
      "504    cdrCasualty_lev_x_wounded            corps_lev_x_Sykes -0.0546568123\n",
      "505         type_lev_x_Artillery       army_lev_x_Confederate  0.0725171021\n",
      "506           type_lev_x_Cavalry       army_lev_x_Confederate -0.0062965559\n",
      "507          type_lev_x_Infantry       army_lev_x_Confederate -0.0618079583\n",
      "508          state_lev_x_Georgia       army_lev_x_Confederate  0.3156606223\n",
      "509         state_lev_x_New_York       army_lev_x_Confederate -0.3618791737\n",
      "510   state_lev_x_North_Carolina       army_lev_x_Confederate  0.3033444395\n",
      "511     state_lev_x_Pennsylvania       army_lev_x_Confederate -0.3391582079\n",
      "512               state_lev_x_US       army_lev_x_Confederate -0.2281001144\n",
      "513         state_lev_x_Virginia       army_lev_x_Confederate  0.4933691774\n",
      "514 division_lev_x_Artillery_Bde       army_lev_x_Confederate -0.2281001144\n",
      "515            corps_lev_x_Ewell       army_lev_x_Confederate  0.4549474815\n",
      "516          corps_lev_x_Hancock       army_lev_x_Confederate -0.2683513875\n",
      "517             corps_lev_x_Hill       army_lev_x_Confederate  0.4115899783\n",
      "518           corps_lev_x_Howard       army_lev_x_Confederate -0.2076583682\n",
      "519       corps_lev_x_Longstreet       army_lev_x_Confederate  0.4352007804\n",
      "520       corps_lev_x_Pleasonton       army_lev_x_Confederate -0.2214473406\n",
      "521         corps_lev_x_Reynolds       army_lev_x_Confederate -0.2281001144\n",
      "522         corps_lev_x_Sedgwick       army_lev_x_Confederate -0.2534034944\n",
      "523          corps_lev_x_Sickles       army_lev_x_Confederate -0.2441363121\n",
      "524           corps_lev_x_Slocum       army_lev_x_Confederate -0.2111711006\n",
      "525            corps_lev_x_Sykes       army_lev_x_Confederate -0.2378166835\n",
      "526             army_lev_x_Union       army_lev_x_Confederate -1.0000000000\n",
      "527         cdrCasualty_lev_x_no       army_lev_x_Confederate -0.0863585756\n",
      "528    cdrCasualty_lev_x_wounded       army_lev_x_Confederate -0.0122008153\n",
      "529         type_lev_x_Artillery             army_lev_x_Union -0.0725171021\n",
      "530           type_lev_x_Cavalry             army_lev_x_Union  0.0062965559\n",
      "531          type_lev_x_Infantry             army_lev_x_Union  0.0618079583\n",
      "532          state_lev_x_Georgia             army_lev_x_Union -0.3156606223\n",
      "533         state_lev_x_New_York             army_lev_x_Union  0.3618791737\n",
      "534   state_lev_x_North_Carolina             army_lev_x_Union -0.3033444395\n",
      "535     state_lev_x_Pennsylvania             army_lev_x_Union  0.3391582079\n",
      "536               state_lev_x_US             army_lev_x_Union  0.2281001144\n",
      "537         state_lev_x_Virginia             army_lev_x_Union -0.4933691774\n",
      "538 division_lev_x_Artillery_Bde             army_lev_x_Union  0.2281001144\n",
      "539            corps_lev_x_Ewell             army_lev_x_Union -0.4549474815\n",
      "540          corps_lev_x_Hancock             army_lev_x_Union  0.2683513875\n",
      "541             corps_lev_x_Hill             army_lev_x_Union -0.4115899783\n",
      "542           corps_lev_x_Howard             army_lev_x_Union  0.2076583682\n",
      "543       corps_lev_x_Longstreet             army_lev_x_Union -0.4352007804\n",
      "544       corps_lev_x_Pleasonton             army_lev_x_Union  0.2214473406\n",
      "545         corps_lev_x_Reynolds             army_lev_x_Union  0.2281001144\n",
      "546         corps_lev_x_Sedgwick             army_lev_x_Union  0.2534034944\n",
      "547          corps_lev_x_Sickles             army_lev_x_Union  0.2441363121\n",
      "548           corps_lev_x_Slocum             army_lev_x_Union  0.2111711006\n",
      "549            corps_lev_x_Sykes             army_lev_x_Union  0.2378166835\n",
      "550       army_lev_x_Confederate             army_lev_x_Union -1.0000000000\n",
      "551         cdrCasualty_lev_x_no             army_lev_x_Union  0.0863585756\n",
      "552    cdrCasualty_lev_x_wounded             army_lev_x_Union  0.0122008153\n",
      "553         type_lev_x_Artillery         cdrCasualty_lev_x_no  0.1600801906\n",
      "554           type_lev_x_Cavalry         cdrCasualty_lev_x_no  0.1706268398\n",
      "555          type_lev_x_Infantry         cdrCasualty_lev_x_no -0.2457416727\n",
      "556          state_lev_x_Georgia         cdrCasualty_lev_x_no -0.0425554636\n",
      "557         state_lev_x_New_York         cdrCasualty_lev_x_no -0.0067579455\n",
      "558   state_lev_x_North_Carolina         cdrCasualty_lev_x_no -0.1169551493\n",
      "559     state_lev_x_Pennsylvania         cdrCasualty_lev_x_no  0.0391004025\n",
      "560               state_lev_x_US         cdrCasualty_lev_x_no  0.0526209600\n",
      "561         state_lev_x_Virginia         cdrCasualty_lev_x_no  0.0689434116\n",
      "562 division_lev_x_Artillery_Bde         cdrCasualty_lev_x_no  0.0071521128\n",
      "563            corps_lev_x_Ewell         cdrCasualty_lev_x_no  0.0012189723\n",
      "564          corps_lev_x_Hancock         cdrCasualty_lev_x_no -0.1121220667\n",
      "565             corps_lev_x_Hill         cdrCasualty_lev_x_no -0.0911111087\n",
      "566           corps_lev_x_Howard         cdrCasualty_lev_x_no -0.0063966619\n",
      "567       corps_lev_x_Longstreet         cdrCasualty_lev_x_no -0.1296001346\n",
      "568       corps_lev_x_Pleasonton         cdrCasualty_lev_x_no  0.1688000868\n",
      "569         corps_lev_x_Reynolds         cdrCasualty_lev_x_no -0.1444107112\n",
      "570         corps_lev_x_Sedgwick         cdrCasualty_lev_x_no  0.1793146962\n",
      "571          corps_lev_x_Sickles         cdrCasualty_lev_x_no -0.0997180658\n",
      "572           corps_lev_x_Slocum         cdrCasualty_lev_x_no  0.0960716128\n",
      "573            corps_lev_x_Sykes         cdrCasualty_lev_x_no  0.0643436428\n",
      "574       army_lev_x_Confederate         cdrCasualty_lev_x_no -0.0863585756\n",
      "575             army_lev_x_Union         cdrCasualty_lev_x_no  0.0863585756\n",
      "576    cdrCasualty_lev_x_wounded         cdrCasualty_lev_x_no -0.6922053026\n",
      "577         type_lev_x_Artillery    cdrCasualty_lev_x_wounded -0.0738652450\n",
      "578           type_lev_x_Cavalry    cdrCasualty_lev_x_wounded -0.1040173668\n",
      "579          type_lev_x_Infantry    cdrCasualty_lev_x_wounded  0.1283693214\n",
      "580          state_lev_x_Georgia    cdrCasualty_lev_x_wounded -0.0422603470\n",
      "581         state_lev_x_New_York    cdrCasualty_lev_x_wounded  0.0499601894\n",
      "582   state_lev_x_North_Carolina    cdrCasualty_lev_x_wounded  0.0553636182\n",
      "583     state_lev_x_Pennsylvania    cdrCasualty_lev_x_wounded  0.0071092235\n",
      "584               state_lev_x_US    cdrCasualty_lev_x_wounded -0.0469157666\n",
      "585         state_lev_x_Virginia    cdrCasualty_lev_x_wounded -0.0547053974\n",
      "586 division_lev_x_Artillery_Bde    cdrCasualty_lev_x_wounded  0.0081633434\n",
      "587            corps_lev_x_Ewell    cdrCasualty_lev_x_wounded -0.0045400352\n",
      "588          corps_lev_x_Hancock    cdrCasualty_lev_x_wounded  0.0502109614\n",
      "589             corps_lev_x_Hill    cdrCasualty_lev_x_wounded -0.0146065196\n",
      "590           corps_lev_x_Howard    cdrCasualty_lev_x_wounded -0.0098217611\n",
      "591       corps_lev_x_Longstreet    cdrCasualty_lev_x_wounded  0.0496136734\n",
      "592       corps_lev_x_Pleasonton    cdrCasualty_lev_x_wounded -0.1168443152\n",
      "593         corps_lev_x_Reynolds    cdrCasualty_lev_x_wounded  0.1734006734\n",
      "594         corps_lev_x_Sedgwick    cdrCasualty_lev_x_wounded -0.1169352933\n",
      "595          corps_lev_x_Sickles    cdrCasualty_lev_x_wounded  0.1481618866\n",
      "596           corps_lev_x_Slocum    cdrCasualty_lev_x_wounded -0.0524635025\n",
      "597            corps_lev_x_Sykes    cdrCasualty_lev_x_wounded -0.0546568123\n",
      "598       army_lev_x_Confederate    cdrCasualty_lev_x_wounded -0.0122008153\n",
      "599             army_lev_x_Union    cdrCasualty_lev_x_wounded  0.0122008153\n",
      "600         cdrCasualty_lev_x_no    cdrCasualty_lev_x_wounded -0.6922053026\n"
     ]
    }
   ],
   "source": [
    "print(gettysburg_corr)"
   ]
  },
  {
   "cell_type": "code",
   "execution_count": 56,
   "metadata": {},
   "outputs": [
    {
     "data": {
      "text/html": [
       "<dl>\n",
       "\t<dt>$linearCombos</dt>\n",
       "\t\t<dd><ol>\n",
       "</ol>\n",
       "</dd>\n",
       "\t<dt>$remove</dt>\n",
       "\t\t<dd>NULL</dd>\n",
       "</dl>\n"
      ],
      "text/latex": [
       "\\begin{description}\n",
       "\\item[\\$linearCombos] \\begin{enumerate}\n",
       "\\end{enumerate}\n",
       "\n",
       "\\item[\\$remove] NULL\n",
       "\\end{description}\n"
      ],
      "text/markdown": [
       "$linearCombos\n",
       ":   \n",
       "\n",
       "\n",
       "$remove\n",
       ":   NULL\n",
       "\n",
       "\n"
      ],
      "text/plain": [
       "$linearCombos\n",
       "list()\n",
       "\n",
       "$remove\n",
       "NULL\n"
      ]
     },
     "metadata": {},
     "output_type": "display_data"
    },
    {
     "data": {
      "text/html": [
       "<ol class=list-inline>\n",
       "\t<li>'corps_lev_x_Pleasonton'</li>\n",
       "\t<li>'state_lev_x_Pennsylvania'</li>\n",
       "\t<li>'state_lev_x_US'</li>\n",
       "\t<li>'state_lev_x_Virginia'</li>\n",
       "\t<li>'division_lev_x_Artillery_Bde'</li>\n",
       "\t<li>'corps_lev_x_Ewell'</li>\n",
       "\t<li>'corps_lev_x_Hancock'</li>\n",
       "\t<li>'corps_lev_x_Hill'</li>\n",
       "\t<li>'corps_lev_x_Howard'</li>\n",
       "\t<li>'corps_lev_x_Longstreet'</li>\n",
       "</ol>\n"
      ],
      "text/latex": [
       "\\begin{enumerate*}\n",
       "\\item 'corps\\_lev\\_x\\_Pleasonton'\n",
       "\\item 'state\\_lev\\_x\\_Pennsylvania'\n",
       "\\item 'state\\_lev\\_x\\_US'\n",
       "\\item 'state\\_lev\\_x\\_Virginia'\n",
       "\\item 'division\\_lev\\_x\\_Artillery\\_Bde'\n",
       "\\item 'corps\\_lev\\_x\\_Ewell'\n",
       "\\item 'corps\\_lev\\_x\\_Hancock'\n",
       "\\item 'corps\\_lev\\_x\\_Hill'\n",
       "\\item 'corps\\_lev\\_x\\_Howard'\n",
       "\\item 'corps\\_lev\\_x\\_Longstreet'\n",
       "\\end{enumerate*}\n"
      ],
      "text/markdown": [
       "1. 'corps_lev_x_Pleasonton'\n",
       "2. 'state_lev_x_Pennsylvania'\n",
       "3. 'state_lev_x_US'\n",
       "4. 'state_lev_x_Virginia'\n",
       "5. 'division_lev_x_Artillery_Bde'\n",
       "6. 'corps_lev_x_Ewell'\n",
       "7. 'corps_lev_x_Hancock'\n",
       "8. 'corps_lev_x_Hill'\n",
       "9. 'corps_lev_x_Howard'\n",
       "10. 'corps_lev_x_Longstreet'\n",
       "\n",
       "\n"
      ],
      "text/plain": [
       " [1] \"corps_lev_x_Pleasonton\"       \"state_lev_x_Pennsylvania\"    \n",
       " [3] \"state_lev_x_US\"               \"state_lev_x_Virginia\"        \n",
       " [5] \"division_lev_x_Artillery_Bde\" \"corps_lev_x_Ewell\"           \n",
       " [7] \"corps_lev_x_Hancock\"          \"corps_lev_x_Hill\"            \n",
       " [9] \"corps_lev_x_Howard\"           \"corps_lev_x_Longstreet\"      "
      ]
     },
     "metadata": {},
     "output_type": "display_data"
    },
    {
     "data": {
      "text/html": [
       "<ol class=list-inline>\n",
       "\t<li>587</li>\n",
       "\t<li>23</li>\n",
       "</ol>\n"
      ],
      "text/latex": [
       "\\begin{enumerate*}\n",
       "\\item 587\n",
       "\\item 23\n",
       "\\end{enumerate*}\n"
      ],
      "text/markdown": [
       "1. 587\n",
       "2. 23\n",
       "\n",
       "\n"
      ],
      "text/plain": [
       "[1] 587  23"
      ]
     },
     "metadata": {},
     "output_type": "display_data"
    }
   ],
   "source": [
    "# linear combination\n",
    "\n",
    "linear_combos <- caret::findLinearCombos(gettysburg_noHighCorr)\n",
    "\n",
    "linear_combos\n",
    "\n",
    "colnames(gettysburg_noHighCorr)[c(16, 7, 8, 9, 10, 11, 12, 13, 14, 15)]\n",
    "\n",
    "#remove linear combos\n",
    "linear_remove <- colnames(gettysburg_noHighCorr[16])\n",
    "\n",
    "df <- gettysburg_noHighCorr[, !(colnames(gettysburg_noHighCorr) %in% linear_remove)]\n",
    "\n",
    "dim(df)"
   ]
  },
  {
   "cell_type": "code",
   "execution_count": null,
   "metadata": {},
   "outputs": [],
   "source": []
  }
 ],
 "metadata": {
  "kernelspec": {
   "display_name": "R",
   "language": "R",
   "name": "ir"
  },
  "language_info": {
   "codemirror_mode": "r",
   "file_extension": ".r",
   "mimetype": "text/x-r-source",
   "name": "R",
   "pygments_lexer": "r",
   "version": "3.6.0"
  }
 },
 "nbformat": 4,
 "nbformat_minor": 2
}
